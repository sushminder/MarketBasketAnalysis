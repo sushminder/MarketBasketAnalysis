{
 "cells": [
  {
   "attachments": {},
   "cell_type": "markdown",
   "metadata": {},
   "source": [
    "## Product Recommendation: Enhancing Sales Strategies with Market Basket Analysis\n",
    "By Sushminder Singh"
   ]
  },
  {
   "cell_type": "markdown",
   "metadata": {},
   "source": [
    "As the internet is becoming more accessible in differents parts of the world, Ecommerce sector is also booming rapidly. All the traditional retails like Walmart is also migrating online. All the major players from walmart to Amazon is increasing there reach to consumers. The competion for better consumer experience and to increase Revenue is also evident among major players. \n",
    "Product Recommendation is also one of the vital part of better consumer experience which helps the customers to discover the most relevant items to their interests. And one of the Famous product Recommendation technique is Market Basket Analysis. So Market Basket Analysis is typically Worked in retail scenario. Here we have the details of the transactions or items in the transactions. So based on these past transactions, we suggest the products to our customers."
   ]
  },
  {
   "cell_type": "markdown",
   "metadata": {},
   "source": [
    "Market Basket Analysis is a Business Intelligence technique used by retailers to recommend the product to customers based on items that are frequently bought together or placed in the baskets by customers. It studies customers buying patterns and preferences to predict what they will preferred to purchase along with existing items in the cart. Beside Product Recommendation, this technique is used in many other purposes like\n",
    "\n",
    "1. By sales team for cross selling and upselling.\n",
    "2. Used to design Store Layouts\n",
    "3. To design Offers and Promos\n",
    "\n",
    "Market basket Analysis is a rule based learning, So here rather than learning labels or clustering like in machine learning, or relationships like in regressions, we are trying to learn rules of associations between objects."
   ]
  },
  {
   "cell_type": "markdown",
   "metadata": {},
   "source": [
    "#### Problem Statement\n",
    "\n",
    "To find the association between the products and Promote Cross selling."
   ]
  },
  {
   "attachments": {},
   "cell_type": "markdown",
   "metadata": {},
   "source": [
    "#### Dataset Information\n",
    "\n",
    "Dataset belongs to a UK based online gift company and downloaded from University of California, Irvine ‘s machine learning repository. Customers are mostly into wholesales. Transactions are occurring for 2010 and 2011.\n",
    "\n",
    "Data Description:\n",
    "\n",
    "1. InvoiceNo: A 6-digit integral number uniquely assigned to each transaction. If this code starts with letter 'c', it indicates a cancellation.\n",
    "2. StockCode: Product code. Nominal, a 5-digit integral number uniquely assigned to each distinct product\n",
    "3. Description: Product (item) name. Nominal.\n",
    "4. Quantity: The quantities of each product (item) per transaction. Numeric.\n",
    "5. InvoiceDate: Numeric, the day and time when each transaction was generated.\n",
    "6. UnitPrice: Numeric, Product price per unit in sterling.\n",
    "7. CustomerID: Nominal, a 5-digit integral number uniquely assigned to each customer.\n",
    "8. Country: Nominal, the name of the country where each customer resides.\n",
    "9. Amount"
   ]
  },
  {
   "cell_type": "markdown",
   "metadata": {},
   "source": [
    "## Exploratory Data Analysis"
   ]
  },
  {
   "cell_type": "markdown",
   "metadata": {},
   "source": [
    "Here we import all the functionality of numpy, pandas, matplotlib, datetime in our jupyter notebook."
   ]
  },
  {
   "cell_type": "code",
   "execution_count": 349,
   "metadata": {},
   "outputs": [],
   "source": [
    "import numpy as np\n",
    "import pandas as pd\n",
    "import matplotlib.pyplot as plt\n",
    "import os\n",
    "\n",
    "from datetime import datetime\n",
    "from matplotlib.dates import DateFormatter\n",
    "import matplotlib.dates as mdates\n",
    "\n",
    "import warnings\n",
    "warnings.filterwarnings('ignore')"
   ]
  },
  {
   "cell_type": "code",
   "execution_count": 350,
   "metadata": {},
   "outputs": [],
   "source": [
    "#read the 2010 csv file\n",
    "df10 = pd.read_csv('online2010.csv',encoding= 'unicode_escape') "
   ]
  },
  {
   "cell_type": "code",
   "execution_count": 351,
   "metadata": {},
   "outputs": [
    {
     "data": {
      "text/html": [
       "<div>\n",
       "<style scoped>\n",
       "    .dataframe tbody tr th:only-of-type {\n",
       "        vertical-align: middle;\n",
       "    }\n",
       "\n",
       "    .dataframe tbody tr th {\n",
       "        vertical-align: top;\n",
       "    }\n",
       "\n",
       "    .dataframe thead th {\n",
       "        text-align: right;\n",
       "    }\n",
       "</style>\n",
       "<table border=\"1\" class=\"dataframe\">\n",
       "  <thead>\n",
       "    <tr style=\"text-align: right;\">\n",
       "      <th></th>\n",
       "      <th>Invoice</th>\n",
       "      <th>StockCode</th>\n",
       "      <th>Description</th>\n",
       "      <th>Quantity</th>\n",
       "      <th>InvoiceDate</th>\n",
       "      <th>Price</th>\n",
       "      <th>Customer ID</th>\n",
       "      <th>Country</th>\n",
       "    </tr>\n",
       "  </thead>\n",
       "  <tbody>\n",
       "    <tr>\n",
       "      <th>0</th>\n",
       "      <td>489434</td>\n",
       "      <td>85048</td>\n",
       "      <td>15CM CHRISTMAS GLASS BALL 20 LIGHTS</td>\n",
       "      <td>12</td>\n",
       "      <td>12/1/2009 7:45</td>\n",
       "      <td>6.95</td>\n",
       "      <td>13085.0</td>\n",
       "      <td>United Kingdom</td>\n",
       "    </tr>\n",
       "    <tr>\n",
       "      <th>1</th>\n",
       "      <td>489434</td>\n",
       "      <td>79323P</td>\n",
       "      <td>PINK CHERRY LIGHTS</td>\n",
       "      <td>12</td>\n",
       "      <td>12/1/2009 7:45</td>\n",
       "      <td>6.75</td>\n",
       "      <td>13085.0</td>\n",
       "      <td>United Kingdom</td>\n",
       "    </tr>\n",
       "    <tr>\n",
       "      <th>2</th>\n",
       "      <td>489434</td>\n",
       "      <td>79323W</td>\n",
       "      <td>WHITE CHERRY LIGHTS</td>\n",
       "      <td>12</td>\n",
       "      <td>12/1/2009 7:45</td>\n",
       "      <td>6.75</td>\n",
       "      <td>13085.0</td>\n",
       "      <td>United Kingdom</td>\n",
       "    </tr>\n",
       "    <tr>\n",
       "      <th>3</th>\n",
       "      <td>489434</td>\n",
       "      <td>22041</td>\n",
       "      <td>RECORD FRAME 7\" SINGLE SIZE</td>\n",
       "      <td>48</td>\n",
       "      <td>12/1/2009 7:45</td>\n",
       "      <td>2.10</td>\n",
       "      <td>13085.0</td>\n",
       "      <td>United Kingdom</td>\n",
       "    </tr>\n",
       "    <tr>\n",
       "      <th>4</th>\n",
       "      <td>489434</td>\n",
       "      <td>21232</td>\n",
       "      <td>STRAWBERRY CERAMIC TRINKET BOX</td>\n",
       "      <td>24</td>\n",
       "      <td>12/1/2009 7:45</td>\n",
       "      <td>1.25</td>\n",
       "      <td>13085.0</td>\n",
       "      <td>United Kingdom</td>\n",
       "    </tr>\n",
       "  </tbody>\n",
       "</table>\n",
       "</div>"
      ],
      "text/plain": [
       "  Invoice StockCode                          Description  Quantity  \\\n",
       "0  489434     85048  15CM CHRISTMAS GLASS BALL 20 LIGHTS        12   \n",
       "1  489434    79323P                   PINK CHERRY LIGHTS        12   \n",
       "2  489434    79323W                  WHITE CHERRY LIGHTS        12   \n",
       "3  489434     22041         RECORD FRAME 7\" SINGLE SIZE         48   \n",
       "4  489434     21232       STRAWBERRY CERAMIC TRINKET BOX        24   \n",
       "\n",
       "      InvoiceDate  Price  Customer ID         Country  \n",
       "0  12/1/2009 7:45   6.95      13085.0  United Kingdom  \n",
       "1  12/1/2009 7:45   6.75      13085.0  United Kingdom  \n",
       "2  12/1/2009 7:45   6.75      13085.0  United Kingdom  \n",
       "3  12/1/2009 7:45   2.10      13085.0  United Kingdom  \n",
       "4  12/1/2009 7:45   1.25      13085.0  United Kingdom  "
      ]
     },
     "execution_count": 351,
     "metadata": {},
     "output_type": "execute_result"
    }
   ],
   "source": [
    "#to know how our csv file or dataset looks\n",
    "df10.head()"
   ]
  },
  {
   "cell_type": "code",
   "execution_count": 352,
   "metadata": {},
   "outputs": [
    {
     "data": {
      "text/plain": [
       "(525461, 8)"
      ]
     },
     "execution_count": 352,
     "metadata": {},
     "output_type": "execute_result"
    }
   ],
   "source": [
    "#to know the shape of online2010 dataset, we have 525461 rows in our dataset and 8 columns\n",
    "df10.shape"
   ]
  },
  {
   "cell_type": "code",
   "execution_count": 353,
   "metadata": {},
   "outputs": [],
   "source": [
    "#here we read the 2011 dataset\n",
    "df11 = pd.read_csv('online2011.csv',encoding= 'unicode_escape')"
   ]
  },
  {
   "cell_type": "code",
   "execution_count": 354,
   "metadata": {},
   "outputs": [
    {
     "data": {
      "text/plain": [
       "(541910, 8)"
      ]
     },
     "execution_count": 354,
     "metadata": {},
     "output_type": "execute_result"
    }
   ],
   "source": [
    "#online 2011 dataset contains 541910 rows and 8 columns\n",
    "df11.shape"
   ]
  },
  {
   "cell_type": "code",
   "execution_count": 355,
   "metadata": {},
   "outputs": [
    {
     "data": {
      "text/html": [
       "<div>\n",
       "<style scoped>\n",
       "    .dataframe tbody tr th:only-of-type {\n",
       "        vertical-align: middle;\n",
       "    }\n",
       "\n",
       "    .dataframe tbody tr th {\n",
       "        vertical-align: top;\n",
       "    }\n",
       "\n",
       "    .dataframe thead th {\n",
       "        text-align: right;\n",
       "    }\n",
       "</style>\n",
       "<table border=\"1\" class=\"dataframe\">\n",
       "  <thead>\n",
       "    <tr style=\"text-align: right;\">\n",
       "      <th></th>\n",
       "      <th>Invoice</th>\n",
       "      <th>StockCode</th>\n",
       "      <th>Description</th>\n",
       "      <th>Quantity</th>\n",
       "      <th>InvoiceDate</th>\n",
       "      <th>Price</th>\n",
       "      <th>Customer ID</th>\n",
       "      <th>Country</th>\n",
       "    </tr>\n",
       "  </thead>\n",
       "  <tbody>\n",
       "    <tr>\n",
       "      <th>541905</th>\n",
       "      <td>581587</td>\n",
       "      <td>22899</td>\n",
       "      <td>CHILDREN'S APRON DOLLY GIRL</td>\n",
       "      <td>6</td>\n",
       "      <td>12/9/2011 12:50</td>\n",
       "      <td>2.10</td>\n",
       "      <td>12680.0</td>\n",
       "      <td>France</td>\n",
       "    </tr>\n",
       "    <tr>\n",
       "      <th>541906</th>\n",
       "      <td>581587</td>\n",
       "      <td>23254</td>\n",
       "      <td>CHILDRENS CUTLERY DOLLY GIRL</td>\n",
       "      <td>4</td>\n",
       "      <td>12/9/2011 12:50</td>\n",
       "      <td>4.15</td>\n",
       "      <td>12680.0</td>\n",
       "      <td>France</td>\n",
       "    </tr>\n",
       "    <tr>\n",
       "      <th>541907</th>\n",
       "      <td>581587</td>\n",
       "      <td>23255</td>\n",
       "      <td>CHILDRENS CUTLERY CIRCUS PARADE</td>\n",
       "      <td>4</td>\n",
       "      <td>12/9/2011 12:50</td>\n",
       "      <td>4.15</td>\n",
       "      <td>12680.0</td>\n",
       "      <td>France</td>\n",
       "    </tr>\n",
       "    <tr>\n",
       "      <th>541908</th>\n",
       "      <td>581587</td>\n",
       "      <td>22138</td>\n",
       "      <td>BAKING SET 9 PIECE RETROSPOT</td>\n",
       "      <td>3</td>\n",
       "      <td>12/9/2011 12:50</td>\n",
       "      <td>4.95</td>\n",
       "      <td>12680.0</td>\n",
       "      <td>France</td>\n",
       "    </tr>\n",
       "    <tr>\n",
       "      <th>541909</th>\n",
       "      <td>581587</td>\n",
       "      <td>POST</td>\n",
       "      <td>POSTAGE</td>\n",
       "      <td>1</td>\n",
       "      <td>12/9/2011 12:50</td>\n",
       "      <td>18.00</td>\n",
       "      <td>12680.0</td>\n",
       "      <td>France</td>\n",
       "    </tr>\n",
       "  </tbody>\n",
       "</table>\n",
       "</div>"
      ],
      "text/plain": [
       "       Invoice StockCode                      Description  Quantity  \\\n",
       "541905  581587     22899     CHILDREN'S APRON DOLLY GIRL          6   \n",
       "541906  581587     23254    CHILDRENS CUTLERY DOLLY GIRL          4   \n",
       "541907  581587     23255  CHILDRENS CUTLERY CIRCUS PARADE         4   \n",
       "541908  581587     22138    BAKING SET 9 PIECE RETROSPOT          3   \n",
       "541909  581587      POST                          POSTAGE         1   \n",
       "\n",
       "            InvoiceDate  Price  Customer ID Country  \n",
       "541905  12/9/2011 12:50   2.10      12680.0  France  \n",
       "541906  12/9/2011 12:50   4.15      12680.0  France  \n",
       "541907  12/9/2011 12:50   4.15      12680.0  France  \n",
       "541908  12/9/2011 12:50   4.95      12680.0  France  \n",
       "541909  12/9/2011 12:50  18.00      12680.0  France  "
      ]
     },
     "execution_count": 355,
     "metadata": {},
     "output_type": "execute_result"
    }
   ],
   "source": [
    "df11.tail()"
   ]
  },
  {
   "cell_type": "code",
   "execution_count": 356,
   "metadata": {},
   "outputs": [
    {
     "name": "stdout",
     "output_type": "stream",
     "text": [
      "<class 'pandas.core.frame.DataFrame'>\n",
      "RangeIndex: 541910 entries, 0 to 541909\n",
      "Data columns (total 8 columns):\n",
      " #   Column       Non-Null Count   Dtype  \n",
      "---  ------       --------------   -----  \n",
      " 0   Invoice      541910 non-null  object \n",
      " 1   StockCode    541910 non-null  object \n",
      " 2   Description  540456 non-null  object \n",
      " 3   Quantity     541910 non-null  int64  \n",
      " 4   InvoiceDate  541910 non-null  object \n",
      " 5   Price        541910 non-null  float64\n",
      " 6   Customer ID  406830 non-null  float64\n",
      " 7   Country      541910 non-null  object \n",
      "dtypes: float64(2), int64(1), object(5)\n",
      "memory usage: 33.1+ MB\n"
     ]
    }
   ],
   "source": [
    "# info functions tells about the datatype of our features and the no of rows and null values in rows\n",
    "df11.info()"
   ]
  },
  {
   "cell_type": "markdown",
   "metadata": {},
   "source": [
    "Lets join the online 2010 and 2011 dataset with concatenate function"
   ]
  },
  {
   "cell_type": "code",
   "execution_count": 357,
   "metadata": {},
   "outputs": [],
   "source": [
    "df = pd.concat([df10, df11]).reset_index(drop=True)"
   ]
  },
  {
   "cell_type": "code",
   "execution_count": 358,
   "metadata": {},
   "outputs": [
    {
     "data": {
      "text/plain": [
       "(1067371, 8)"
      ]
     },
     "execution_count": 358,
     "metadata": {},
     "output_type": "execute_result"
    }
   ],
   "source": [
    "# now the shape is increased to 1067371 with 8 coloumns\n",
    "df.shape"
   ]
  },
  {
   "cell_type": "code",
   "execution_count": 359,
   "metadata": {},
   "outputs": [
    {
     "data": {
      "text/html": [
       "<div>\n",
       "<style scoped>\n",
       "    .dataframe tbody tr th:only-of-type {\n",
       "        vertical-align: middle;\n",
       "    }\n",
       "\n",
       "    .dataframe tbody tr th {\n",
       "        vertical-align: top;\n",
       "    }\n",
       "\n",
       "    .dataframe thead th {\n",
       "        text-align: right;\n",
       "    }\n",
       "</style>\n",
       "<table border=\"1\" class=\"dataframe\">\n",
       "  <thead>\n",
       "    <tr style=\"text-align: right;\">\n",
       "      <th></th>\n",
       "      <th>Quantity</th>\n",
       "      <th>Price</th>\n",
       "      <th>Customer ID</th>\n",
       "    </tr>\n",
       "  </thead>\n",
       "  <tbody>\n",
       "    <tr>\n",
       "      <th>count</th>\n",
       "      <td>1.067371e+06</td>\n",
       "      <td>1.067371e+06</td>\n",
       "      <td>824364.000000</td>\n",
       "    </tr>\n",
       "    <tr>\n",
       "      <th>mean</th>\n",
       "      <td>9.938898e+00</td>\n",
       "      <td>4.649388e+00</td>\n",
       "      <td>15324.638504</td>\n",
       "    </tr>\n",
       "    <tr>\n",
       "      <th>std</th>\n",
       "      <td>1.727058e+02</td>\n",
       "      <td>1.235531e+02</td>\n",
       "      <td>1697.464450</td>\n",
       "    </tr>\n",
       "    <tr>\n",
       "      <th>min</th>\n",
       "      <td>-8.099500e+04</td>\n",
       "      <td>-5.359436e+04</td>\n",
       "      <td>12346.000000</td>\n",
       "    </tr>\n",
       "    <tr>\n",
       "      <th>25%</th>\n",
       "      <td>1.000000e+00</td>\n",
       "      <td>1.250000e+00</td>\n",
       "      <td>13975.000000</td>\n",
       "    </tr>\n",
       "    <tr>\n",
       "      <th>50%</th>\n",
       "      <td>3.000000e+00</td>\n",
       "      <td>2.100000e+00</td>\n",
       "      <td>15255.000000</td>\n",
       "    </tr>\n",
       "    <tr>\n",
       "      <th>75%</th>\n",
       "      <td>1.000000e+01</td>\n",
       "      <td>4.150000e+00</td>\n",
       "      <td>16797.000000</td>\n",
       "    </tr>\n",
       "    <tr>\n",
       "      <th>max</th>\n",
       "      <td>8.099500e+04</td>\n",
       "      <td>3.897000e+04</td>\n",
       "      <td>18287.000000</td>\n",
       "    </tr>\n",
       "  </tbody>\n",
       "</table>\n",
       "</div>"
      ],
      "text/plain": [
       "           Quantity         Price    Customer ID\n",
       "count  1.067371e+06  1.067371e+06  824364.000000\n",
       "mean   9.938898e+00  4.649388e+00   15324.638504\n",
       "std    1.727058e+02  1.235531e+02    1697.464450\n",
       "min   -8.099500e+04 -5.359436e+04   12346.000000\n",
       "25%    1.000000e+00  1.250000e+00   13975.000000\n",
       "50%    3.000000e+00  2.100000e+00   15255.000000\n",
       "75%    1.000000e+01  4.150000e+00   16797.000000\n",
       "max    8.099500e+04  3.897000e+04   18287.000000"
      ]
     },
     "execution_count": 359,
     "metadata": {},
     "output_type": "execute_result"
    }
   ],
   "source": [
    "#from Decribe function we can generate descriptive statistics\n",
    "df.describe()"
   ]
  },
  {
   "cell_type": "markdown",
   "metadata": {},
   "source": [
    "Price of the cheapest item is 1.25 pounds and the costliest item is 38790 pounds\n",
    "price of 75% of the items are below 4.15 pounds"
   ]
  },
  {
   "cell_type": "markdown",
   "metadata": {},
   "source": [
    "So, As in the description it says that minimun quantity is -8.099500e+04 and the maximum is also the same, only difference is the minimum is in negative and the maximum is positive, it indicates that the quanitity is cancelled. lets check for this:"
   ]
  },
  {
   "cell_type": "code",
   "execution_count": 360,
   "metadata": {},
   "outputs": [
    {
     "data": {
      "text/html": [
       "<div>\n",
       "<style scoped>\n",
       "    .dataframe tbody tr th:only-of-type {\n",
       "        vertical-align: middle;\n",
       "    }\n",
       "\n",
       "    .dataframe tbody tr th {\n",
       "        vertical-align: top;\n",
       "    }\n",
       "\n",
       "    .dataframe thead th {\n",
       "        text-align: right;\n",
       "    }\n",
       "</style>\n",
       "<table border=\"1\" class=\"dataframe\">\n",
       "  <thead>\n",
       "    <tr style=\"text-align: right;\">\n",
       "      <th></th>\n",
       "      <th>Invoice</th>\n",
       "      <th>StockCode</th>\n",
       "      <th>Description</th>\n",
       "      <th>Quantity</th>\n",
       "      <th>InvoiceDate</th>\n",
       "      <th>Price</th>\n",
       "      <th>Customer ID</th>\n",
       "      <th>Country</th>\n",
       "    </tr>\n",
       "  </thead>\n",
       "  <tbody>\n",
       "    <tr>\n",
       "      <th>1065883</th>\n",
       "      <td>C581484</td>\n",
       "      <td>23843</td>\n",
       "      <td>PAPER CRAFT , LITTLE BIRDIE</td>\n",
       "      <td>-80995</td>\n",
       "      <td>12/9/2011 9:27</td>\n",
       "      <td>2.08</td>\n",
       "      <td>16446.0</td>\n",
       "      <td>United Kingdom</td>\n",
       "    </tr>\n",
       "  </tbody>\n",
       "</table>\n",
       "</div>"
      ],
      "text/plain": [
       "         Invoice StockCode                  Description  Quantity  \\\n",
       "1065883  C581484     23843  PAPER CRAFT , LITTLE BIRDIE    -80995   \n",
       "\n",
       "            InvoiceDate  Price  Customer ID         Country  \n",
       "1065883  12/9/2011 9:27   2.08      16446.0  United Kingdom  "
      ]
     },
     "execution_count": 360,
     "metadata": {},
     "output_type": "execute_result"
    }
   ],
   "source": [
    "df[df['Quantity'] ==-8.099500e+04]"
   ]
  },
  {
   "cell_type": "markdown",
   "metadata": {},
   "source": [
    "The Invoice number C581484 contains the 'C' value, which means this product \"PAPER CRAFT , LITTLE BIRDIE\" is cancelled by customer, Now lets check the total number of Cancelled Products"
   ]
  },
  {
   "cell_type": "markdown",
   "metadata": {},
   "source": [
    "### Cancelled Items"
   ]
  },
  {
   "cell_type": "markdown",
   "metadata": {},
   "source": [
    "It is Mentioned in the description of Dataset that all the Invoices with 'C' in front is cancelled items. so the total number of cancelled items are 19494, which 15% of all the transaction. So which quite a large in numbers."
   ]
  },
  {
   "cell_type": "code",
   "execution_count": 361,
   "metadata": {},
   "outputs": [],
   "source": [
    "df_cancelled = df[df['Invoice'].str.contains('C')]"
   ]
  },
  {
   "cell_type": "code",
   "execution_count": 362,
   "metadata": {},
   "outputs": [
    {
     "data": {
      "text/html": [
       "<div>\n",
       "<style scoped>\n",
       "    .dataframe tbody tr th:only-of-type {\n",
       "        vertical-align: middle;\n",
       "    }\n",
       "\n",
       "    .dataframe tbody tr th {\n",
       "        vertical-align: top;\n",
       "    }\n",
       "\n",
       "    .dataframe thead th {\n",
       "        text-align: right;\n",
       "    }\n",
       "</style>\n",
       "<table border=\"1\" class=\"dataframe\">\n",
       "  <thead>\n",
       "    <tr style=\"text-align: right;\">\n",
       "      <th></th>\n",
       "      <th>Invoice</th>\n",
       "      <th>StockCode</th>\n",
       "      <th>Description</th>\n",
       "      <th>Quantity</th>\n",
       "      <th>InvoiceDate</th>\n",
       "      <th>Price</th>\n",
       "      <th>Customer ID</th>\n",
       "      <th>Country</th>\n",
       "    </tr>\n",
       "  </thead>\n",
       "  <tbody>\n",
       "    <tr>\n",
       "      <th>178</th>\n",
       "      <td>C489449</td>\n",
       "      <td>22087</td>\n",
       "      <td>PAPER BUNTING WHITE LACE</td>\n",
       "      <td>-12</td>\n",
       "      <td>12/1/2009 10:33</td>\n",
       "      <td>2.95</td>\n",
       "      <td>16321.0</td>\n",
       "      <td>Australia</td>\n",
       "    </tr>\n",
       "    <tr>\n",
       "      <th>179</th>\n",
       "      <td>C489449</td>\n",
       "      <td>85206A</td>\n",
       "      <td>CREAM FELT EASTER EGG BASKET</td>\n",
       "      <td>-6</td>\n",
       "      <td>12/1/2009 10:33</td>\n",
       "      <td>1.65</td>\n",
       "      <td>16321.0</td>\n",
       "      <td>Australia</td>\n",
       "    </tr>\n",
       "    <tr>\n",
       "      <th>180</th>\n",
       "      <td>C489449</td>\n",
       "      <td>21895</td>\n",
       "      <td>POTTING SHED SOW 'N' GROW SET</td>\n",
       "      <td>-4</td>\n",
       "      <td>12/1/2009 10:33</td>\n",
       "      <td>4.25</td>\n",
       "      <td>16321.0</td>\n",
       "      <td>Australia</td>\n",
       "    </tr>\n",
       "    <tr>\n",
       "      <th>181</th>\n",
       "      <td>C489449</td>\n",
       "      <td>21896</td>\n",
       "      <td>POTTING SHED TWINE</td>\n",
       "      <td>-6</td>\n",
       "      <td>12/1/2009 10:33</td>\n",
       "      <td>2.10</td>\n",
       "      <td>16321.0</td>\n",
       "      <td>Australia</td>\n",
       "    </tr>\n",
       "    <tr>\n",
       "      <th>182</th>\n",
       "      <td>C489449</td>\n",
       "      <td>22083</td>\n",
       "      <td>PAPER CHAIN KIT RETRO SPOT</td>\n",
       "      <td>-12</td>\n",
       "      <td>12/1/2009 10:33</td>\n",
       "      <td>2.95</td>\n",
       "      <td>16321.0</td>\n",
       "      <td>Australia</td>\n",
       "    </tr>\n",
       "  </tbody>\n",
       "</table>\n",
       "</div>"
      ],
      "text/plain": [
       "     Invoice StockCode                    Description  Quantity  \\\n",
       "178  C489449     22087       PAPER BUNTING WHITE LACE       -12   \n",
       "179  C489449    85206A   CREAM FELT EASTER EGG BASKET        -6   \n",
       "180  C489449     21895  POTTING SHED SOW 'N' GROW SET        -4   \n",
       "181  C489449     21896             POTTING SHED TWINE        -6   \n",
       "182  C489449     22083     PAPER CHAIN KIT RETRO SPOT       -12   \n",
       "\n",
       "         InvoiceDate  Price  Customer ID    Country  \n",
       "178  12/1/2009 10:33   2.95      16321.0  Australia  \n",
       "179  12/1/2009 10:33   1.65      16321.0  Australia  \n",
       "180  12/1/2009 10:33   4.25      16321.0  Australia  \n",
       "181  12/1/2009 10:33   2.10      16321.0  Australia  \n",
       "182  12/1/2009 10:33   2.95      16321.0  Australia  "
      ]
     },
     "execution_count": 362,
     "metadata": {},
     "output_type": "execute_result"
    }
   ],
   "source": [
    "df_cancelled.head()"
   ]
  },
  {
   "cell_type": "code",
   "execution_count": 363,
   "metadata": {},
   "outputs": [
    {
     "data": {
      "text/html": [
       "<div>\n",
       "<style scoped>\n",
       "    .dataframe tbody tr th:only-of-type {\n",
       "        vertical-align: middle;\n",
       "    }\n",
       "\n",
       "    .dataframe tbody tr th {\n",
       "        vertical-align: top;\n",
       "    }\n",
       "\n",
       "    .dataframe thead th {\n",
       "        text-align: right;\n",
       "    }\n",
       "</style>\n",
       "<table border=\"1\" class=\"dataframe\">\n",
       "  <thead>\n",
       "    <tr style=\"text-align: right;\">\n",
       "      <th></th>\n",
       "      <th>Invoice</th>\n",
       "      <th>StockCode</th>\n",
       "      <th>Description</th>\n",
       "      <th>Quantity</th>\n",
       "      <th>InvoiceDate</th>\n",
       "      <th>Price</th>\n",
       "      <th>Customer ID</th>\n",
       "      <th>Country</th>\n",
       "    </tr>\n",
       "  </thead>\n",
       "  <tbody>\n",
       "    <tr>\n",
       "      <th>76799</th>\n",
       "      <td>C496350</td>\n",
       "      <td>M</td>\n",
       "      <td>Manual</td>\n",
       "      <td>1</td>\n",
       "      <td>2/1/2010 8:24</td>\n",
       "      <td>373.57</td>\n",
       "      <td>NaN</td>\n",
       "      <td>United Kingdom</td>\n",
       "    </tr>\n",
       "  </tbody>\n",
       "</table>\n",
       "</div>"
      ],
      "text/plain": [
       "       Invoice StockCode Description  Quantity    InvoiceDate   Price  \\\n",
       "76799  C496350         M      Manual         1  2/1/2010 8:24  373.57   \n",
       "\n",
       "       Customer ID         Country  \n",
       "76799          NaN  United Kingdom  "
      ]
     },
     "execution_count": 363,
     "metadata": {},
     "output_type": "execute_result"
    }
   ],
   "source": [
    "df_cancelled[df_cancelled['Quantity']>0]"
   ]
  },
  {
   "cell_type": "markdown",
   "metadata": {},
   "source": [
    "That was not expected but In this transaction the Description is Manual and Stockcode is M and it seems that is was not a product, which means this cancelled order is not an order but done manually maybe for training purpose or by mistake."
   ]
  },
  {
   "cell_type": "code",
   "execution_count": 364,
   "metadata": {},
   "outputs": [
    {
     "name": "stdout",
     "output_type": "stream",
     "text": [
      "Total number of cancelled Items are 19494\n"
     ]
    }
   ],
   "source": [
    "print(f'Total number of cancelled Items are {len(df_cancelled)}')"
   ]
  },
  {
   "cell_type": "code",
   "execution_count": 365,
   "metadata": {},
   "outputs": [
    {
     "name": "stdout",
     "output_type": "stream",
     "text": [
      "Percentage of Total number of cancelled Items are 15.46207205191318\n"
     ]
    }
   ],
   "source": [
    "Cancelled_orders = df_cancelled['Invoice'].nunique()\n",
    "total_orders = df['Invoice'].nunique()\n",
    "print(f'Percentage of Total number of cancelled Items are {Cancelled_orders/total_orders*100}')"
   ]
  },
  {
   "cell_type": "markdown",
   "metadata": {},
   "source": [
    "### Amount\n",
    "\n",
    "Here we are add an feature to the dataset which tells us about the sales or amount of transactions. we take all the non-cancelled items and multiply the price and quantity row to get the amount. "
   ]
  },
  {
   "cell_type": "code",
   "execution_count": 366,
   "metadata": {},
   "outputs": [],
   "source": [
    "df = df[df['Quantity']>0]"
   ]
  },
  {
   "cell_type": "code",
   "execution_count": 367,
   "metadata": {},
   "outputs": [],
   "source": [
    "df['Amount'] = df['Price']*df['Quantity']"
   ]
  },
  {
   "cell_type": "code",
   "execution_count": 368,
   "metadata": {},
   "outputs": [
    {
     "data": {
      "text/html": [
       "<div>\n",
       "<style scoped>\n",
       "    .dataframe tbody tr th:only-of-type {\n",
       "        vertical-align: middle;\n",
       "    }\n",
       "\n",
       "    .dataframe tbody tr th {\n",
       "        vertical-align: top;\n",
       "    }\n",
       "\n",
       "    .dataframe thead th {\n",
       "        text-align: right;\n",
       "    }\n",
       "</style>\n",
       "<table border=\"1\" class=\"dataframe\">\n",
       "  <thead>\n",
       "    <tr style=\"text-align: right;\">\n",
       "      <th></th>\n",
       "      <th>Invoice</th>\n",
       "      <th>StockCode</th>\n",
       "      <th>Description</th>\n",
       "      <th>Quantity</th>\n",
       "      <th>InvoiceDate</th>\n",
       "      <th>Price</th>\n",
       "      <th>Customer ID</th>\n",
       "      <th>Country</th>\n",
       "      <th>Amount</th>\n",
       "    </tr>\n",
       "  </thead>\n",
       "  <tbody>\n",
       "    <tr>\n",
       "      <th>0</th>\n",
       "      <td>489434</td>\n",
       "      <td>85048</td>\n",
       "      <td>15CM CHRISTMAS GLASS BALL 20 LIGHTS</td>\n",
       "      <td>12</td>\n",
       "      <td>12/1/2009 7:45</td>\n",
       "      <td>6.95</td>\n",
       "      <td>13085.0</td>\n",
       "      <td>United Kingdom</td>\n",
       "      <td>83.4</td>\n",
       "    </tr>\n",
       "    <tr>\n",
       "      <th>1</th>\n",
       "      <td>489434</td>\n",
       "      <td>79323P</td>\n",
       "      <td>PINK CHERRY LIGHTS</td>\n",
       "      <td>12</td>\n",
       "      <td>12/1/2009 7:45</td>\n",
       "      <td>6.75</td>\n",
       "      <td>13085.0</td>\n",
       "      <td>United Kingdom</td>\n",
       "      <td>81.0</td>\n",
       "    </tr>\n",
       "    <tr>\n",
       "      <th>2</th>\n",
       "      <td>489434</td>\n",
       "      <td>79323W</td>\n",
       "      <td>WHITE CHERRY LIGHTS</td>\n",
       "      <td>12</td>\n",
       "      <td>12/1/2009 7:45</td>\n",
       "      <td>6.75</td>\n",
       "      <td>13085.0</td>\n",
       "      <td>United Kingdom</td>\n",
       "      <td>81.0</td>\n",
       "    </tr>\n",
       "    <tr>\n",
       "      <th>3</th>\n",
       "      <td>489434</td>\n",
       "      <td>22041</td>\n",
       "      <td>RECORD FRAME 7\" SINGLE SIZE</td>\n",
       "      <td>48</td>\n",
       "      <td>12/1/2009 7:45</td>\n",
       "      <td>2.10</td>\n",
       "      <td>13085.0</td>\n",
       "      <td>United Kingdom</td>\n",
       "      <td>100.8</td>\n",
       "    </tr>\n",
       "    <tr>\n",
       "      <th>4</th>\n",
       "      <td>489434</td>\n",
       "      <td>21232</td>\n",
       "      <td>STRAWBERRY CERAMIC TRINKET BOX</td>\n",
       "      <td>24</td>\n",
       "      <td>12/1/2009 7:45</td>\n",
       "      <td>1.25</td>\n",
       "      <td>13085.0</td>\n",
       "      <td>United Kingdom</td>\n",
       "      <td>30.0</td>\n",
       "    </tr>\n",
       "  </tbody>\n",
       "</table>\n",
       "</div>"
      ],
      "text/plain": [
       "  Invoice StockCode                          Description  Quantity  \\\n",
       "0  489434     85048  15CM CHRISTMAS GLASS BALL 20 LIGHTS        12   \n",
       "1  489434    79323P                   PINK CHERRY LIGHTS        12   \n",
       "2  489434    79323W                  WHITE CHERRY LIGHTS        12   \n",
       "3  489434     22041         RECORD FRAME 7\" SINGLE SIZE         48   \n",
       "4  489434     21232       STRAWBERRY CERAMIC TRINKET BOX        24   \n",
       "\n",
       "      InvoiceDate  Price  Customer ID         Country  Amount  \n",
       "0  12/1/2009 7:45   6.95      13085.0  United Kingdom    83.4  \n",
       "1  12/1/2009 7:45   6.75      13085.0  United Kingdom    81.0  \n",
       "2  12/1/2009 7:45   6.75      13085.0  United Kingdom    81.0  \n",
       "3  12/1/2009 7:45   2.10      13085.0  United Kingdom   100.8  \n",
       "4  12/1/2009 7:45   1.25      13085.0  United Kingdom    30.0  "
      ]
     },
     "execution_count": 368,
     "metadata": {},
     "output_type": "execute_result"
    }
   ],
   "source": [
    "df.head()"
   ]
  },
  {
   "cell_type": "markdown",
   "metadata": {},
   "source": [
    "### Null Values and Dublicated values\n",
    "\n",
    "Here we remove all the null values and dublicated values from our data"
   ]
  },
  {
   "cell_type": "code",
   "execution_count": 369,
   "metadata": {},
   "outputs": [
    {
     "data": {
      "text/plain": [
       "Invoice        0.000000\n",
       "StockCode      0.000000\n",
       "Description    0.001621\n",
       "Quantity       0.000000\n",
       "InvoiceDate    0.000000\n",
       "Price          0.000000\n",
       "Customer ID    0.228644\n",
       "Country        0.000000\n",
       "Amount         0.000000\n",
       "dtype: float64"
      ]
     },
     "execution_count": 369,
     "metadata": {},
     "output_type": "execute_result"
    }
   ],
   "source": [
    "df.isna().mean() #this tells about the mean of null values"
   ]
  },
  {
   "cell_type": "markdown",
   "metadata": {},
   "source": [
    "The NA customer is in large number, close to 23%. Removing them will make an impact on results. We can remove the NA from the Description column which is in small number. but Here we remove all the nulls and NA because our dataset is quite large."
   ]
  },
  {
   "cell_type": "code",
   "execution_count": 370,
   "metadata": {},
   "outputs": [],
   "source": [
    "df.dropna(inplace = True, axis =0) #this drops all the null values"
   ]
  },
  {
   "cell_type": "code",
   "execution_count": 371,
   "metadata": {},
   "outputs": [
    {
     "data": {
      "text/plain": [
       "Invoice        0.0\n",
       "StockCode      0.0\n",
       "Description    0.0\n",
       "Quantity       0.0\n",
       "InvoiceDate    0.0\n",
       "Price          0.0\n",
       "Customer ID    0.0\n",
       "Country        0.0\n",
       "Amount         0.0\n",
       "dtype: float64"
      ]
     },
     "execution_count": 371,
     "metadata": {},
     "output_type": "execute_result"
    }
   ],
   "source": [
    "df.isna().mean() #this is again to check for the null values"
   ]
  },
  {
   "cell_type": "code",
   "execution_count": 372,
   "metadata": {},
   "outputs": [
    {
     "data": {
      "text/plain": [
       "Invoice        36975\n",
       "StockCode       4631\n",
       "Description     5283\n",
       "Quantity         438\n",
       "InvoiceDate    34591\n",
       "Price            666\n",
       "Customer ID     5881\n",
       "Country           41\n",
       "Amount          3920\n",
       "dtype: int64"
      ]
     },
     "execution_count": 372,
     "metadata": {},
     "output_type": "execute_result"
    }
   ],
   "source": [
    "df.nunique() #to know about the total number of unique values in each column"
   ]
  },
  {
   "cell_type": "code",
   "execution_count": 373,
   "metadata": {},
   "outputs": [],
   "source": [
    "df['Customer ID'] = df['Customer ID'].astype('str') #changing the datatype of Customer ID to object"
   ]
  },
  {
   "cell_type": "code",
   "execution_count": 374,
   "metadata": {},
   "outputs": [],
   "source": [
    "df['InvoiceDate'] = pd.to_datetime(df['InvoiceDate']) #changing the format of Invoice date column to datetime64"
   ]
  },
  {
   "cell_type": "code",
   "execution_count": 375,
   "metadata": {},
   "outputs": [
    {
     "name": "stdout",
     "output_type": "stream",
     "text": [
      "<class 'pandas.core.frame.DataFrame'>\n",
      "Int64Index: 805620 entries, 0 to 1067370\n",
      "Data columns (total 9 columns):\n",
      " #   Column       Non-Null Count   Dtype         \n",
      "---  ------       --------------   -----         \n",
      " 0   Invoice      805620 non-null  object        \n",
      " 1   StockCode    805620 non-null  object        \n",
      " 2   Description  805620 non-null  object        \n",
      " 3   Quantity     805620 non-null  int64         \n",
      " 4   InvoiceDate  805620 non-null  datetime64[ns]\n",
      " 5   Price        805620 non-null  float64       \n",
      " 6   Customer ID  805620 non-null  object        \n",
      " 7   Country      805620 non-null  object        \n",
      " 8   Amount       805620 non-null  float64       \n",
      "dtypes: datetime64[ns](1), float64(2), int64(1), object(5)\n",
      "memory usage: 61.5+ MB\n"
     ]
    }
   ],
   "source": [
    "df.info()"
   ]
  },
  {
   "cell_type": "code",
   "execution_count": 376,
   "metadata": {},
   "outputs": [
    {
     "data": {
      "text/plain": [
       "0          False\n",
       "1          False\n",
       "2          False\n",
       "3          False\n",
       "4          False\n",
       "           ...  \n",
       "1067366    False\n",
       "1067367    False\n",
       "1067368    False\n",
       "1067369    False\n",
       "1067370    False\n",
       "Length: 805620, dtype: bool"
      ]
     },
     "execution_count": 376,
     "metadata": {},
     "output_type": "execute_result"
    }
   ],
   "source": [
    "df.duplicated() #this tells us about the dublicated rows"
   ]
  },
  {
   "cell_type": "code",
   "execution_count": 377,
   "metadata": {},
   "outputs": [],
   "source": [
    "df = df.drop_duplicates() #this drops all the dublicated rows"
   ]
  },
  {
   "cell_type": "code",
   "execution_count": 378,
   "metadata": {},
   "outputs": [
    {
     "data": {
      "text/plain": [
       "United Kingdom          700434\n",
       "Germany                  16440\n",
       "EIRE                     15567\n",
       "France                   13512\n",
       "Netherlands               5090\n",
       "Spain                     3663\n",
       "Belgium                   3056\n",
       "Switzerland               3006\n",
       "Portugal                  2356\n",
       "Australia                 1792\n",
       "Channel Islands           1551\n",
       "Italy                     1442\n",
       "Sweden                    1317\n",
       "Norway                    1290\n",
       "Cyprus                    1136\n",
       "Finland                   1032\n",
       "Austria                    922\n",
       "Denmark                    778\n",
       "Greece                     657\n",
       "Unspecified                518\n",
       "Poland                     504\n",
       "Japan                      468\n",
       "USA                        409\n",
       "United Arab Emirates       383\n",
       "Singapore                  339\n",
       "Israel                     319\n",
       "Malta                      282\n",
       "Canada                     228\n",
       "Iceland                    222\n",
       "Lithuania                  154\n",
       "RSA                        123\n",
       "Brazil                      94\n",
       "Thailand                    76\n",
       "European Community          60\n",
       "Bahrain                     59\n",
       "West Indies                 54\n",
       "Korea                       53\n",
       "Lebanon                     45\n",
       "Nigeria                     30\n",
       "Czech Republic              25\n",
       "Saudi Arabia                 9\n",
       "Name: Country, dtype: int64"
      ]
     },
     "execution_count": 378,
     "metadata": {},
     "output_type": "execute_result"
    }
   ],
   "source": [
    "#this tells us about the number of transactions in each country. the highest transactions is in UK followed by germany.\n",
    "df['Country'].value_counts() "
   ]
  },
  {
   "cell_type": "code",
   "execution_count": 379,
   "metadata": {},
   "outputs": [
    {
     "data": {
      "text/plain": [
       "(779495, 9)"
      ]
     },
     "execution_count": 379,
     "metadata": {},
     "output_type": "execute_result"
    }
   ],
   "source": [
    "df.shape #the shape of our dataset after cleaing is 779495 rows with 9 columns"
   ]
  },
  {
   "cell_type": "code",
   "execution_count": 380,
   "metadata": {},
   "outputs": [
    {
     "data": {
      "text/plain": [
       "85123A    5023\n",
       "22423     3337\n",
       "85099B    3296\n",
       "84879     2692\n",
       "20725     2609\n",
       "          ... \n",
       "15059A       1\n",
       "85171        1\n",
       "20822        1\n",
       "84387A       1\n",
       "16169A       1\n",
       "Name: StockCode, Length: 4631, dtype: int64"
      ]
     },
     "execution_count": 380,
     "metadata": {},
     "output_type": "execute_result"
    }
   ],
   "source": [
    "df['StockCode'].value_counts()"
   ]
  },
  {
   "cell_type": "markdown",
   "metadata": {},
   "source": [
    "#### 80/20 Rules in Business says that 80% of revenue comes from 20% of our customers. \n",
    "\n",
    "So it is important to know about your potential customers. The customers with ID number '17841' and '14911' is contributing to the highest number of transaction which 12435 and 11079 respectively.\n",
    "\n",
    "But the Customers contributing to the highest number of 'Amount' are Customer ID's 18102 and 14646.\n",
    "\n",
    "Customer with ID number '14646' is also the one who purchasd highest number of quantity"
   ]
  },
  {
   "cell_type": "code",
   "execution_count": 381,
   "metadata": {},
   "outputs": [
    {
     "data": {
      "text/plain": [
       "17841.0    12435\n",
       "14911.0    11079\n",
       "12748.0     6587\n",
       "14606.0     6359\n",
       "14096.0     5111\n",
       "           ...  \n",
       "13366.0        1\n",
       "16093.0        1\n",
       "13864.0        1\n",
       "12404.0        1\n",
       "15913.0        1\n",
       "Name: Customer ID, Length: 5881, dtype: int64"
      ]
     },
     "execution_count": 381,
     "metadata": {},
     "output_type": "execute_result"
    }
   ],
   "source": [
    "df['Customer ID'].value_counts() #to know the total number of transactions"
   ]
  },
  {
   "cell_type": "code",
   "execution_count": 382,
   "metadata": {},
   "outputs": [
    {
     "data": {
      "text/plain": [
       "Customer ID\n",
       "18102.0    580987.04\n",
       "14646.0    528602.52\n",
       "14156.0    313437.62\n",
       "14911.0    291420.81\n",
       "17450.0    244784.25\n",
       "13694.0    195640.69\n",
       "17511.0    172132.87\n",
       "16446.0    168472.50\n",
       "16684.0    147142.77\n",
       "12415.0    144458.37\n",
       "Name: Amount, dtype: float64"
      ]
     },
     "execution_count": 382,
     "metadata": {},
     "output_type": "execute_result"
    }
   ],
   "source": [
    "#to know the top 10 cutomers with highest amount purchased\n",
    "df['Amount'].groupby(df['Customer ID']).sum().sort_values(ascending = False).head(10) "
   ]
  },
  {
   "cell_type": "code",
   "execution_count": 383,
   "metadata": {},
   "outputs": [
    {
     "data": {
      "text/plain": [
       "Customer ID\n",
       "14646.0    367833\n",
       "13902.0    220600\n",
       "13694.0    188201\n",
       "18102.0    181645\n",
       "14156.0    164325\n",
       "14911.0    148222\n",
       "17511.0    117174\n",
       "16684.0    104810\n",
       "14298.0    100272\n",
       "12415.0     91743\n",
       "Name: Quantity, dtype: int64"
      ]
     },
     "execution_count": 383,
     "metadata": {},
     "output_type": "execute_result"
    }
   ],
   "source": [
    "#to know the top 10 customers with highest quantity purchased\n",
    "df['Quantity'].groupby(df['Customer ID']).sum().sort_values(ascending = False).head(10)"
   ]
  },
  {
   "cell_type": "markdown",
   "metadata": {},
   "source": [
    "##### Some of the insights: \n",
    "\n",
    "Total Number of Unique Customer: 5880\n",
    "\n",
    "Total Number of Unique Products: 4630\n",
    "\n",
    "Customers Ordered from 41 different countries"
   ]
  },
  {
   "cell_type": "markdown",
   "metadata": {},
   "source": [
    "### Top 20 StockCode with highest number of Quantity are listed below."
   ]
  },
  {
   "cell_type": "code",
   "execution_count": 384,
   "metadata": {},
   "outputs": [
    {
     "data": {
      "text/plain": [
       "<matplotlib.axes._subplots.AxesSubplot at 0x122a3e88eb0>"
      ]
     },
     "execution_count": 384,
     "metadata": {},
     "output_type": "execute_result"
    },
    {
     "data": {
      "image/png": "[encoded data removed]",
      "text/plain": [
       "<Figure size 1080x504 with 1 Axes>"
      ]
     },
     "metadata": {
      "needs_background": "light"
     },
     "output_type": "display_data"
    }
   ],
   "source": [
    "df['Quantity'].groupby(df['StockCode']).sum().sort_values(ascending = False).head(20).plot.bar(figsize = (15, 7))"
   ]
  },
  {
   "cell_type": "code",
   "execution_count": 385,
   "metadata": {},
   "outputs": [
    {
     "data": {
      "text/plain": [
       "array(['WORLD WAR 2 GLIDERS ASSTD DESIGNS'], dtype=object)"
      ]
     },
     "metadata": {},
     "output_type": "display_data"
    }
   ],
   "source": [
    "display(df[df['StockCode'].isin(['84077'])]['Description'].unique())"
   ]
  },
  {
   "cell_type": "markdown",
   "metadata": {},
   "source": [
    "From the analysis, we find that the product with the stockcode '84077' is the most popular item.The name of the product is 'WORLD WAR 2 GLIDERS ASSTD DESIGNS'. This product is sold for more than 100000 times which is highest quantity among all other products."
   ]
  },
  {
   "cell_type": "markdown",
   "metadata": {},
   "source": [
    "### Top 20 StockCode or Products with highest number of Amount are listed below\n",
    "\n",
    "Here we remove the Postage from the stockcode which doesn't make any sense."
   ]
  },
  {
   "cell_type": "code",
   "execution_count": 386,
   "metadata": {},
   "outputs": [
    {
     "data": {
      "text/plain": [
       "<matplotlib.axes._subplots.AxesSubplot at 0x122bc081a60>"
      ]
     },
     "execution_count": 386,
     "metadata": {},
     "output_type": "execute_result"
    },
    {
     "data": {
      "image/png": "[encoded data removed]",
      "text/plain": [
       "<Figure size 1080x504 with 1 Axes>"
      ]
     },
     "metadata": {
      "needs_background": "light"
     },
     "output_type": "display_data"
    }
   ],
   "source": [
    "df = df[df.StockCode != 'POST']\n",
    "df['Amount'].groupby(df['StockCode']).sum().sort_values(ascending = False).head(20).plot.bar(figsize = (15, 7))"
   ]
  },
  {
   "cell_type": "code",
   "execution_count": 387,
   "metadata": {},
   "outputs": [
    {
     "data": {
      "text/plain": [
       "array(['WHITE HANGING HEART T-LIGHT HOLDER',\n",
       "       'CREAM HANGING HEART T-LIGHT HOLDER'], dtype=object)"
      ]
     },
     "metadata": {},
     "output_type": "display_data"
    }
   ],
   "source": [
    "display(df[df['StockCode'].isin(['85123A'])]['Description'].unique())"
   ]
  },
  {
   "cell_type": "markdown",
   "metadata": {},
   "source": [
    "From the Above plot, we find that the product with the stockcode '22423' is the item with highest number of sales.The name of the product is 'REGENCY CAKESTAND 3 TIER'. The total sale for this product is more than 250000 pound, which is highest among all the products. The second highest product with most sales is WHITE HANGING HEART T-LIGHT HOLDER. "
   ]
  },
  {
   "cell_type": "markdown",
   "metadata": {},
   "source": [
    "### TOP 10 countries with highest number of Quantity sold\n",
    "\n",
    "It is a UK based company and the highest number of quantity is also sold in UK which is 8545869. Also the total percentage of Quantity sold in UK is 81.20% of all the quantity.Outside UK the highest quantity sold is in Netherland."
   ]
  },
  {
   "cell_type": "code",
   "execution_count": 388,
   "metadata": {},
   "outputs": [
    {
     "data": {
      "text/plain": [
       "Country\n",
       "United Kingdom    81.20771\n",
       "Name: Quantity, dtype: float64"
      ]
     },
     "execution_count": 388,
     "metadata": {},
     "output_type": "execute_result"
    }
   ],
   "source": [
    "total = df['Quantity'].sum()\n",
    "Uk_Quantity = df['Quantity'].groupby(df['Country']).sum().sort_values(ascending = False).head(1)\n",
    "percentage_of_quantity_for_UK = Uk_Quantity/total*100\n",
    "percentage_of_quantity_for_UK"
   ]
  },
  {
   "cell_type": "code",
   "execution_count": 389,
   "metadata": {},
   "outputs": [],
   "source": [
    "#how much quantity of product sold in each country outside UK\n",
    "\n",
    "a = df['Quantity'].groupby(df['Country']).sum().sort_values(ascending = False)[1:].head(10)"
   ]
  },
  {
   "cell_type": "code",
   "execution_count": 390,
   "metadata": {},
   "outputs": [
    {
     "data": {
      "image/png": "[encoded data removed]",
      "text/plain": [
       "<Figure size 720x576 with 1 Axes>"
      ]
     },
     "metadata": {
      "needs_background": "light"
     },
     "output_type": "display_data"
    }
   ],
   "source": [
    "plt.figure(figsize=(10,8))\n",
    "sns.barplot(x= a.values, y= a.index)\n",
    "plt.title(\"Quantity of product sold in each country outside UK\")\n",
    "plt.xlabel(\"Quantity\")\n",
    "plt.show()"
   ]
  },
  {
   "cell_type": "markdown",
   "metadata": {},
   "source": [
    "### TOP 10 countries with highest number of Sales\n",
    "\n",
    "It is obvious that the highest number of sales is in UK which is 14379920 pound which is 83% of the all the sales. Next highest sales are from EIRE."
   ]
  },
  {
   "cell_type": "code",
   "execution_count": 391,
   "metadata": {},
   "outputs": [
    {
     "data": {
      "text/plain": [
       "Country\n",
       "United Kingdom    83.361127\n",
       "Name: Amount, dtype: float64"
      ]
     },
     "execution_count": 391,
     "metadata": {},
     "output_type": "execute_result"
    }
   ],
   "source": [
    "total = df['Amount'].sum()\n",
    "Uk_Quantity = df['Amount'].groupby(df['Country']).sum().sort_values(ascending = False).head(1)\n",
    "percentage_of_quantity_for_UK = Uk_Quantity/total*100\n",
    "percentage_of_quantity_for_UK"
   ]
  },
  {
   "cell_type": "code",
   "execution_count": 392,
   "metadata": {},
   "outputs": [],
   "source": [
    "b = df['Amount'].groupby(df['Country']).sum().sort_values(ascending = False)[1:].head(10)"
   ]
  },
  {
   "cell_type": "code",
   "execution_count": 393,
   "metadata": {},
   "outputs": [
    {
     "data": {
      "image/png": "[encoded data removed]",
      "text/plain": [
       "<Figure size 720x576 with 1 Axes>"
      ]
     },
     "metadata": {
      "needs_background": "light"
     },
     "output_type": "display_data"
    }
   ],
   "source": [
    "plt.figure(figsize=(10,8))\n",
    "sns.barplot(x= b.values, y= b.index)\n",
    "plt.title(\"Amount of products sold in each country outside UK\")\n",
    "plt.xlabel(\"Amount\")\n",
    "plt.show()"
   ]
  },
  {
   "cell_type": "markdown",
   "metadata": {},
   "source": [
    "So here we notice that the quantity and amount purchased is different outside UK, the Highest Amount sold outside UK is in EIRE and the highest quantity sold outside UK is in Netherland. Below the list of top countries with lowest sales. Nigeria is the country with lowest sales of 140 pounds only.\n"
   ]
  },
  {
   "cell_type": "code",
   "execution_count": 394,
   "metadata": {},
   "outputs": [
    {
     "data": {
      "text/plain": [
       "Country\n",
       "RSA                   1933.74\n",
       "Lebanon               1693.88\n",
       "Brazil                1411.87\n",
       "Bahrain               1354.37\n",
       "European Community    1159.25\n",
       "Korea                 1118.51\n",
       "Czech Republic         786.74\n",
       "West Indies            536.41\n",
       "Saudi Arabia           145.92\n",
       "Nigeria                140.39\n",
       "Name: Amount, dtype: float64"
      ]
     },
     "execution_count": 394,
     "metadata": {},
     "output_type": "execute_result"
    }
   ],
   "source": [
    "df['Amount'].groupby(df['Country']).sum().sort_values(ascending= False).tail(10)"
   ]
  },
  {
   "cell_type": "markdown",
   "metadata": {},
   "source": [
    "## Market Basket Analysis"
   ]
  },
  {
   "cell_type": "markdown",
   "metadata": {},
   "source": [
    "As discussed earlier that in Market Basket Analysis we check for the items in Transactions, So in this Dataset Our transactions are 'Invoices' column and Product names are 'StockCode' column. I am not taking the 'Description' column because it was lengthy and the names of products are not fit in columns and also they are descriptions of the product not the product name.\n",
    "\n",
    "So here all Invoices are one set of baskets that the customer buys from the company.\n",
    "\n",
    "So to start with Market Basket Analysis, we install the mlxtend package in our enviorment. Enter the follwing command in Anaconda Prompt\n",
    "\n",
    "###### \"conda install -c conda-forge mlxtend\"\n",
    "\n",
    "Mlxtend also called machine learning extensions is a Python library of useful tools for the day-to-day data science tasks. Now import the apriori algorithm and association rules from MLxtend."
   ]
  },
  {
   "cell_type": "code",
   "execution_count": 425,
   "metadata": {},
   "outputs": [],
   "source": [
    "from mlxtend.frequent_patterns import apriori\n",
    "from mlxtend.frequent_patterns import association_rules"
   ]
  },
  {
   "cell_type": "markdown",
   "metadata": {},
   "source": [
    "From MLXTEND, we have preprocessing, models which we fit and transform on our Stockcode column and Invoice Column. this create a list of baskets.\n",
    "Here i define a function using transaction encoder, so that i can perform separately it on required countries. Just enter the country and we get the basket of all transactions of that country."
   ]
  },
  {
   "cell_type": "code",
   "execution_count": 401,
   "metadata": {},
   "outputs": [],
   "source": [
    "# Create our list of 'baskets' for use with the TransactionEncoder\n",
    "from mlxtend.preprocessing import TransactionEncoder\n",
    "def enter_country(country_name):\n",
    "    basket = df[df['Country'] == country_name]\n",
    "    basket_series = basket.groupby('Invoice').apply(lambda x: list(x['StockCode']))\n",
    "    te = TransactionEncoder()\n",
    "    transaction_matrix = te.fit(basket_series).transform(basket_series, sparse=True)\n",
    "    transaction_df = pd.DataFrame.sparse.from_spmatrix(transaction_matrix, columns=te.columns_)\n",
    "    return(transaction_df)"
   ]
  },
  {
   "cell_type": "code",
   "execution_count": 426,
   "metadata": {},
   "outputs": [
    {
     "data": {
      "text/html": [
       "<div>\n",
       "<style scoped>\n",
       "    .dataframe tbody tr th:only-of-type {\n",
       "        vertical-align: middle;\n",
       "    }\n",
       "\n",
       "    .dataframe tbody tr th {\n",
       "        vertical-align: top;\n",
       "    }\n",
       "\n",
       "    .dataframe thead th {\n",
       "        text-align: right;\n",
       "    }\n",
       "</style>\n",
       "<table border=\"1\" class=\"dataframe\">\n",
       "  <thead>\n",
       "    <tr style=\"text-align: right;\">\n",
       "      <th></th>\n",
       "      <th>10002</th>\n",
       "      <th>10125</th>\n",
       "      <th>10135</th>\n",
       "      <th>11001</th>\n",
       "      <th>15034</th>\n",
       "      <th>15036</th>\n",
       "      <th>15039</th>\n",
       "      <th>15044A</th>\n",
       "      <th>15044B</th>\n",
       "      <th>15044D</th>\n",
       "      <th>...</th>\n",
       "      <th>90200E</th>\n",
       "      <th>90201A</th>\n",
       "      <th>90201B</th>\n",
       "      <th>90201C</th>\n",
       "      <th>90201D</th>\n",
       "      <th>90202D</th>\n",
       "      <th>90204</th>\n",
       "      <th>ADJUST</th>\n",
       "      <th>M</th>\n",
       "      <th>PADS</th>\n",
       "    </tr>\n",
       "  </thead>\n",
       "  <tbody>\n",
       "    <tr>\n",
       "      <th>0</th>\n",
       "      <td>False</td>\n",
       "      <td>False</td>\n",
       "      <td>False</td>\n",
       "      <td>False</td>\n",
       "      <td>False</td>\n",
       "      <td>False</td>\n",
       "      <td>False</td>\n",
       "      <td>False</td>\n",
       "      <td>False</td>\n",
       "      <td>False</td>\n",
       "      <td>...</td>\n",
       "      <td>False</td>\n",
       "      <td>False</td>\n",
       "      <td>False</td>\n",
       "      <td>False</td>\n",
       "      <td>False</td>\n",
       "      <td>False</td>\n",
       "      <td>False</td>\n",
       "      <td>False</td>\n",
       "      <td>False</td>\n",
       "      <td>False</td>\n",
       "    </tr>\n",
       "    <tr>\n",
       "      <th>1</th>\n",
       "      <td>False</td>\n",
       "      <td>False</td>\n",
       "      <td>False</td>\n",
       "      <td>False</td>\n",
       "      <td>False</td>\n",
       "      <td>False</td>\n",
       "      <td>False</td>\n",
       "      <td>False</td>\n",
       "      <td>False</td>\n",
       "      <td>False</td>\n",
       "      <td>...</td>\n",
       "      <td>False</td>\n",
       "      <td>False</td>\n",
       "      <td>False</td>\n",
       "      <td>False</td>\n",
       "      <td>False</td>\n",
       "      <td>False</td>\n",
       "      <td>False</td>\n",
       "      <td>False</td>\n",
       "      <td>False</td>\n",
       "      <td>False</td>\n",
       "    </tr>\n",
       "    <tr>\n",
       "      <th>2</th>\n",
       "      <td>False</td>\n",
       "      <td>False</td>\n",
       "      <td>False</td>\n",
       "      <td>False</td>\n",
       "      <td>False</td>\n",
       "      <td>False</td>\n",
       "      <td>False</td>\n",
       "      <td>False</td>\n",
       "      <td>False</td>\n",
       "      <td>False</td>\n",
       "      <td>...</td>\n",
       "      <td>False</td>\n",
       "      <td>False</td>\n",
       "      <td>False</td>\n",
       "      <td>False</td>\n",
       "      <td>False</td>\n",
       "      <td>False</td>\n",
       "      <td>False</td>\n",
       "      <td>False</td>\n",
       "      <td>False</td>\n",
       "      <td>False</td>\n",
       "    </tr>\n",
       "    <tr>\n",
       "      <th>3</th>\n",
       "      <td>False</td>\n",
       "      <td>False</td>\n",
       "      <td>False</td>\n",
       "      <td>False</td>\n",
       "      <td>False</td>\n",
       "      <td>False</td>\n",
       "      <td>False</td>\n",
       "      <td>False</td>\n",
       "      <td>False</td>\n",
       "      <td>False</td>\n",
       "      <td>...</td>\n",
       "      <td>False</td>\n",
       "      <td>False</td>\n",
       "      <td>False</td>\n",
       "      <td>False</td>\n",
       "      <td>False</td>\n",
       "      <td>False</td>\n",
       "      <td>False</td>\n",
       "      <td>False</td>\n",
       "      <td>False</td>\n",
       "      <td>False</td>\n",
       "    </tr>\n",
       "    <tr>\n",
       "      <th>4</th>\n",
       "      <td>False</td>\n",
       "      <td>False</td>\n",
       "      <td>False</td>\n",
       "      <td>False</td>\n",
       "      <td>False</td>\n",
       "      <td>False</td>\n",
       "      <td>False</td>\n",
       "      <td>False</td>\n",
       "      <td>False</td>\n",
       "      <td>False</td>\n",
       "      <td>...</td>\n",
       "      <td>False</td>\n",
       "      <td>False</td>\n",
       "      <td>False</td>\n",
       "      <td>False</td>\n",
       "      <td>False</td>\n",
       "      <td>False</td>\n",
       "      <td>False</td>\n",
       "      <td>False</td>\n",
       "      <td>False</td>\n",
       "      <td>False</td>\n",
       "    </tr>\n",
       "    <tr>\n",
       "      <th>...</th>\n",
       "      <td>...</td>\n",
       "      <td>...</td>\n",
       "      <td>...</td>\n",
       "      <td>...</td>\n",
       "      <td>...</td>\n",
       "      <td>...</td>\n",
       "      <td>...</td>\n",
       "      <td>...</td>\n",
       "      <td>...</td>\n",
       "      <td>...</td>\n",
       "      <td>...</td>\n",
       "      <td>...</td>\n",
       "      <td>...</td>\n",
       "      <td>...</td>\n",
       "      <td>...</td>\n",
       "      <td>...</td>\n",
       "      <td>...</td>\n",
       "      <td>...</td>\n",
       "      <td>...</td>\n",
       "      <td>...</td>\n",
       "      <td>...</td>\n",
       "    </tr>\n",
       "    <tr>\n",
       "      <th>760</th>\n",
       "      <td>False</td>\n",
       "      <td>False</td>\n",
       "      <td>False</td>\n",
       "      <td>False</td>\n",
       "      <td>False</td>\n",
       "      <td>False</td>\n",
       "      <td>False</td>\n",
       "      <td>False</td>\n",
       "      <td>False</td>\n",
       "      <td>False</td>\n",
       "      <td>...</td>\n",
       "      <td>False</td>\n",
       "      <td>False</td>\n",
       "      <td>False</td>\n",
       "      <td>False</td>\n",
       "      <td>False</td>\n",
       "      <td>False</td>\n",
       "      <td>False</td>\n",
       "      <td>False</td>\n",
       "      <td>False</td>\n",
       "      <td>False</td>\n",
       "    </tr>\n",
       "    <tr>\n",
       "      <th>761</th>\n",
       "      <td>False</td>\n",
       "      <td>True</td>\n",
       "      <td>False</td>\n",
       "      <td>False</td>\n",
       "      <td>False</td>\n",
       "      <td>False</td>\n",
       "      <td>False</td>\n",
       "      <td>False</td>\n",
       "      <td>False</td>\n",
       "      <td>False</td>\n",
       "      <td>...</td>\n",
       "      <td>False</td>\n",
       "      <td>False</td>\n",
       "      <td>False</td>\n",
       "      <td>False</td>\n",
       "      <td>False</td>\n",
       "      <td>False</td>\n",
       "      <td>False</td>\n",
       "      <td>False</td>\n",
       "      <td>False</td>\n",
       "      <td>False</td>\n",
       "    </tr>\n",
       "    <tr>\n",
       "      <th>762</th>\n",
       "      <td>False</td>\n",
       "      <td>False</td>\n",
       "      <td>False</td>\n",
       "      <td>False</td>\n",
       "      <td>False</td>\n",
       "      <td>False</td>\n",
       "      <td>False</td>\n",
       "      <td>False</td>\n",
       "      <td>False</td>\n",
       "      <td>False</td>\n",
       "      <td>...</td>\n",
       "      <td>False</td>\n",
       "      <td>False</td>\n",
       "      <td>False</td>\n",
       "      <td>False</td>\n",
       "      <td>False</td>\n",
       "      <td>False</td>\n",
       "      <td>False</td>\n",
       "      <td>False</td>\n",
       "      <td>False</td>\n",
       "      <td>False</td>\n",
       "    </tr>\n",
       "    <tr>\n",
       "      <th>763</th>\n",
       "      <td>False</td>\n",
       "      <td>False</td>\n",
       "      <td>False</td>\n",
       "      <td>False</td>\n",
       "      <td>False</td>\n",
       "      <td>False</td>\n",
       "      <td>False</td>\n",
       "      <td>False</td>\n",
       "      <td>False</td>\n",
       "      <td>False</td>\n",
       "      <td>...</td>\n",
       "      <td>False</td>\n",
       "      <td>False</td>\n",
       "      <td>False</td>\n",
       "      <td>False</td>\n",
       "      <td>False</td>\n",
       "      <td>False</td>\n",
       "      <td>False</td>\n",
       "      <td>False</td>\n",
       "      <td>False</td>\n",
       "      <td>False</td>\n",
       "    </tr>\n",
       "    <tr>\n",
       "      <th>764</th>\n",
       "      <td>False</td>\n",
       "      <td>False</td>\n",
       "      <td>False</td>\n",
       "      <td>False</td>\n",
       "      <td>False</td>\n",
       "      <td>False</td>\n",
       "      <td>False</td>\n",
       "      <td>False</td>\n",
       "      <td>False</td>\n",
       "      <td>False</td>\n",
       "      <td>...</td>\n",
       "      <td>False</td>\n",
       "      <td>False</td>\n",
       "      <td>False</td>\n",
       "      <td>False</td>\n",
       "      <td>False</td>\n",
       "      <td>False</td>\n",
       "      <td>False</td>\n",
       "      <td>False</td>\n",
       "      <td>False</td>\n",
       "      <td>False</td>\n",
       "    </tr>\n",
       "  </tbody>\n",
       "</table>\n",
       "<p>765 rows × 2171 columns</p>\n",
       "</div>"
      ],
      "text/plain": [
       "     10002  10125  10135  11001  15034  15036  15039  15044A  15044B  15044D  \\\n",
       "0    False  False  False  False  False  False  False   False   False   False   \n",
       "1    False  False  False  False  False  False  False   False   False   False   \n",
       "2    False  False  False  False  False  False  False   False   False   False   \n",
       "3    False  False  False  False  False  False  False   False   False   False   \n",
       "4    False  False  False  False  False  False  False   False   False   False   \n",
       "..     ...    ...    ...    ...    ...    ...    ...     ...     ...     ...   \n",
       "760  False  False  False  False  False  False  False   False   False   False   \n",
       "761  False   True  False  False  False  False  False   False   False   False   \n",
       "762  False  False  False  False  False  False  False   False   False   False   \n",
       "763  False  False  False  False  False  False  False   False   False   False   \n",
       "764  False  False  False  False  False  False  False   False   False   False   \n",
       "\n",
       "     ...  90200E  90201A  90201B  90201C  90201D  90202D  90204  ADJUST  \\\n",
       "0    ...   False   False   False   False   False   False  False   False   \n",
       "1    ...   False   False   False   False   False   False  False   False   \n",
       "2    ...   False   False   False   False   False   False  False   False   \n",
       "3    ...   False   False   False   False   False   False  False   False   \n",
       "4    ...   False   False   False   False   False   False  False   False   \n",
       "..   ...     ...     ...     ...     ...     ...     ...    ...     ...   \n",
       "760  ...   False   False   False   False   False   False  False   False   \n",
       "761  ...   False   False   False   False   False   False  False   False   \n",
       "762  ...   False   False   False   False   False   False  False   False   \n",
       "763  ...   False   False   False   False   False   False  False   False   \n",
       "764  ...   False   False   False   False   False   False  False   False   \n",
       "\n",
       "         M   PADS  \n",
       "0    False  False  \n",
       "1    False  False  \n",
       "2    False  False  \n",
       "3    False  False  \n",
       "4    False  False  \n",
       "..     ...    ...  \n",
       "760  False  False  \n",
       "761  False  False  \n",
       "762  False  False  \n",
       "763  False  False  \n",
       "764  False  False  \n",
       "\n",
       "[765 rows x 2171 columns]"
      ]
     },
     "execution_count": 426,
     "metadata": {},
     "output_type": "execute_result"
    }
   ],
   "source": [
    "#list of basket for Germany\n",
    "df_germany = enter_country('Germany')\n",
    "df_germany "
   ]
  },
  {
   "attachments": {},
   "cell_type": "markdown",
   "metadata": {},
   "source": [
    "In market Basket Analysis, 3 important terms from which we decide the association rules are Support, Confidence and Lift\n",
    "\n",
    "Support is how many times an item or itemset occurs in the dataset. Here X union Y is set of two itemsets contain X and Y.\n",
    "\n",
    "\n",
    "$$  \\text{support}(X \\cup Y) = \\frac{\\text{No of transactions with X and Y together}}{\\text{total number of transactions}} $$\n",
    "\n",
    "\n",
    "Confidence is how likely an Item Y is purchased when Item X is purchased.\n",
    "\n",
    "$$ \\text{confidence}(X\\rightarrow Y) = \\frac{\\text{support}(X\\cup Y)}{\\text{support}(X)} = \\frac{\\text{proportion of transactions with X and Y}}{\\text{proportion of transactions with X}}$$\n",
    "\n",
    "Lift measures a similar idea as confidence, How much we have lifted the purchase of the consequence by the fact of the antecedent. A values of 1 is no increase. Lift: Basically tells abo.ut the strength of any rule, more lift more strength\n",
    "\n",
    "$$ \\text{lift}(X\\rightarrow Y) = \\frac{\\text{confidence}(X\\rightarrow Y)}{\\text{support}(Y)} = \\frac{\\frac{\\text{support}(X\\cup Y)}{\\text{support}(X)}}{\\text{support}(Y)} = \\frac{\\text{support}(X\\cup Y)}{\\text{support}(X)\\times\\text{support}(Y)}$$"
   ]
  },
  {
   "cell_type": "markdown",
   "metadata": {},
   "source": [
    "When we apply the apriori algorithm and association rules on our germany's list of baskets, we get all the associated rules for germany. Here i have taken the Support of 0.02 which means that rules with all the itemsets occurs 2% times in dataset and the min_threshold of 1.2. Reason for applying Apriori Algorithm on different countries separately because it is Computationally expensive."
   ]
  },
  {
   "cell_type": "code",
   "execution_count": 427,
   "metadata": {},
   "outputs": [
    {
     "data": {
      "text/html": [
       "<div>\n",
       "<style scoped>\n",
       "    .dataframe tbody tr th:only-of-type {\n",
       "        vertical-align: middle;\n",
       "    }\n",
       "\n",
       "    .dataframe tbody tr th {\n",
       "        vertical-align: top;\n",
       "    }\n",
       "\n",
       "    .dataframe thead th {\n",
       "        text-align: right;\n",
       "    }\n",
       "</style>\n",
       "<table border=\"1\" class=\"dataframe\">\n",
       "  <thead>\n",
       "    <tr style=\"text-align: right;\">\n",
       "      <th></th>\n",
       "      <th>antecedents</th>\n",
       "      <th>consequents</th>\n",
       "      <th>antecedent support</th>\n",
       "      <th>consequent support</th>\n",
       "      <th>support</th>\n",
       "      <th>confidence</th>\n",
       "      <th>lift</th>\n",
       "      <th>leverage</th>\n",
       "      <th>conviction</th>\n",
       "    </tr>\n",
       "  </thead>\n",
       "  <tbody>\n",
       "    <tr>\n",
       "      <th>648</th>\n",
       "      <td>(23290)</td>\n",
       "      <td>(23292)</td>\n",
       "      <td>0.024837</td>\n",
       "      <td>0.026144</td>\n",
       "      <td>0.022222</td>\n",
       "      <td>0.894737</td>\n",
       "      <td>34.223684</td>\n",
       "      <td>0.021573</td>\n",
       "      <td>9.251634</td>\n",
       "    </tr>\n",
       "    <tr>\n",
       "      <th>649</th>\n",
       "      <td>(23292)</td>\n",
       "      <td>(23290)</td>\n",
       "      <td>0.026144</td>\n",
       "      <td>0.024837</td>\n",
       "      <td>0.022222</td>\n",
       "      <td>0.850000</td>\n",
       "      <td>34.223684</td>\n",
       "      <td>0.021573</td>\n",
       "      <td>6.501089</td>\n",
       "    </tr>\n",
       "    <tr>\n",
       "      <th>1939</th>\n",
       "      <td>(21240, 20677, 21239)</td>\n",
       "      <td>(21238, 21243)</td>\n",
       "      <td>0.027451</td>\n",
       "      <td>0.027451</td>\n",
       "      <td>0.020915</td>\n",
       "      <td>0.761905</td>\n",
       "      <td>27.755102</td>\n",
       "      <td>0.020161</td>\n",
       "      <td>4.084706</td>\n",
       "    </tr>\n",
       "    <tr>\n",
       "      <th>1946</th>\n",
       "      <td>(21238, 21243)</td>\n",
       "      <td>(21240, 20677, 21239)</td>\n",
       "      <td>0.027451</td>\n",
       "      <td>0.027451</td>\n",
       "      <td>0.020915</td>\n",
       "      <td>0.761905</td>\n",
       "      <td>27.755102</td>\n",
       "      <td>0.020161</td>\n",
       "      <td>4.084706</td>\n",
       "    </tr>\n",
       "    <tr>\n",
       "      <th>647</th>\n",
       "      <td>(23256)</td>\n",
       "      <td>(23254)</td>\n",
       "      <td>0.028758</td>\n",
       "      <td>0.030065</td>\n",
       "      <td>0.023529</td>\n",
       "      <td>0.818182</td>\n",
       "      <td>27.213439</td>\n",
       "      <td>0.022665</td>\n",
       "      <td>5.334641</td>\n",
       "    </tr>\n",
       "    <tr>\n",
       "      <th>646</th>\n",
       "      <td>(23254)</td>\n",
       "      <td>(23256)</td>\n",
       "      <td>0.030065</td>\n",
       "      <td>0.028758</td>\n",
       "      <td>0.023529</td>\n",
       "      <td>0.782609</td>\n",
       "      <td>27.213439</td>\n",
       "      <td>0.022665</td>\n",
       "      <td>4.467712</td>\n",
       "    </tr>\n",
       "    <tr>\n",
       "      <th>1948</th>\n",
       "      <td>(20677, 21239)</td>\n",
       "      <td>(21238, 21240, 21243)</td>\n",
       "      <td>0.032680</td>\n",
       "      <td>0.023529</td>\n",
       "      <td>0.020915</td>\n",
       "      <td>0.640000</td>\n",
       "      <td>27.200000</td>\n",
       "      <td>0.020146</td>\n",
       "      <td>2.712418</td>\n",
       "    </tr>\n",
       "    <tr>\n",
       "      <th>1783</th>\n",
       "      <td>(20677, 21239)</td>\n",
       "      <td>(21243, 21244)</td>\n",
       "      <td>0.032680</td>\n",
       "      <td>0.023529</td>\n",
       "      <td>0.020915</td>\n",
       "      <td>0.640000</td>\n",
       "      <td>27.200000</td>\n",
       "      <td>0.020146</td>\n",
       "      <td>2.712418</td>\n",
       "    </tr>\n",
       "    <tr>\n",
       "      <th>1937</th>\n",
       "      <td>(21238, 21240, 21243)</td>\n",
       "      <td>(20677, 21239)</td>\n",
       "      <td>0.023529</td>\n",
       "      <td>0.032680</td>\n",
       "      <td>0.020915</td>\n",
       "      <td>0.888889</td>\n",
       "      <td>27.200000</td>\n",
       "      <td>0.020146</td>\n",
       "      <td>8.705882</td>\n",
       "    </tr>\n",
       "    <tr>\n",
       "      <th>1778</th>\n",
       "      <td>(21243, 21244)</td>\n",
       "      <td>(20677, 21239)</td>\n",
       "      <td>0.023529</td>\n",
       "      <td>0.032680</td>\n",
       "      <td>0.020915</td>\n",
       "      <td>0.888889</td>\n",
       "      <td>27.200000</td>\n",
       "      <td>0.020146</td>\n",
       "      <td>8.705882</td>\n",
       "    </tr>\n",
       "  </tbody>\n",
       "</table>\n",
       "</div>"
      ],
      "text/plain": [
       "                antecedents            consequents  antecedent support  \\\n",
       "648                 (23290)                (23292)            0.024837   \n",
       "649                 (23292)                (23290)            0.026144   \n",
       "1939  (21240, 20677, 21239)         (21238, 21243)            0.027451   \n",
       "1946         (21238, 21243)  (21240, 20677, 21239)            0.027451   \n",
       "647                 (23256)                (23254)            0.028758   \n",
       "646                 (23254)                (23256)            0.030065   \n",
       "1948         (20677, 21239)  (21238, 21240, 21243)            0.032680   \n",
       "1783         (20677, 21239)         (21243, 21244)            0.032680   \n",
       "1937  (21238, 21240, 21243)         (20677, 21239)            0.023529   \n",
       "1778         (21243, 21244)         (20677, 21239)            0.023529   \n",
       "\n",
       "      consequent support   support  confidence       lift  leverage  \\\n",
       "648             0.026144  0.022222    0.894737  34.223684  0.021573   \n",
       "649             0.024837  0.022222    0.850000  34.223684  0.021573   \n",
       "1939            0.027451  0.020915    0.761905  27.755102  0.020161   \n",
       "1946            0.027451  0.020915    0.761905  27.755102  0.020161   \n",
       "647             0.030065  0.023529    0.818182  27.213439  0.022665   \n",
       "646             0.028758  0.023529    0.782609  27.213439  0.022665   \n",
       "1948            0.023529  0.020915    0.640000  27.200000  0.020146   \n",
       "1783            0.023529  0.020915    0.640000  27.200000  0.020146   \n",
       "1937            0.032680  0.020915    0.888889  27.200000  0.020146   \n",
       "1778            0.032680  0.020915    0.888889  27.200000  0.020146   \n",
       "\n",
       "      conviction  \n",
       "648     9.251634  \n",
       "649     6.501089  \n",
       "1939    4.084706  \n",
       "1946    4.084706  \n",
       "647     5.334641  \n",
       "646     4.467712  \n",
       "1948    2.712418  \n",
       "1783    2.712418  \n",
       "1937    8.705882  \n",
       "1778    8.705882  "
      ]
     },
     "execution_count": 427,
     "metadata": {},
     "output_type": "execute_result"
    }
   ],
   "source": [
    "germany_frequent_itemsets = apriori(df_germany, min_support =0.02,use_colnames = True)\n",
    "germany_rule = association_rules(germany_frequent_itemsets, metric ='lift', min_threshold = 1.2)\n",
    "germany_rule.sort_values('lift',ascending=False).head(10)"
   ]
  },
  {
   "cell_type": "code",
   "execution_count": 430,
   "metadata": {},
   "outputs": [
    {
     "data": {
      "text/plain": [
       "array(['SPACEBOY CHILDRENS BOWL'], dtype=object)"
      ]
     },
     "execution_count": 430,
     "metadata": {},
     "output_type": "execute_result"
    }
   ],
   "source": [
    "#to know the description of the product, we use the following expression.\n",
    "df[df['StockCode'].isin(['23290'])]['Description'].unique()"
   ]
  },
  {
   "cell_type": "code",
   "execution_count": 431,
   "metadata": {},
   "outputs": [
    {
     "data": {
      "text/plain": [
       "array(['PINK SPOTTY BOWL', 'RED SPOTTY CUP', 'BLUE  SPOTTY CUP',\n",
       "       'PINK  SPOTTY CUP', 'PINK  SPOTTY PLATE ', 'PINK  POLKADOT PLATE ',\n",
       "       'BLUE POLKADOT CUP', 'PINK  POLKADOT CUP', 'PINK POLKADOT BOWL',\n",
       "       'RED RETROSPOT CUP', 'PINK POLKADOT PLATE '], dtype=object)"
      ]
     },
     "execution_count": 431,
     "metadata": {},
     "output_type": "execute_result"
    }
   ],
   "source": [
    "df[df['StockCode'].isin(['21240','21239','20677','21243','21238'])]['Description'].unique()"
   ]
  },
  {
   "cell_type": "markdown",
   "metadata": {},
   "source": [
    "According to the results, German wholesalers who purchase item \"SPACE BOY CHILDRENS CUP\" is 34 times more likely to buy item \"SPACEBOY CHILDRENS BOWL\" than an average cutomer. So we can recommend the \"SPACE BOY CHILDRENS CUP\" to those who purchase the item \"SPACEBOY CHILDRENS BOWL\"."
   ]
  },
  {
   "cell_type": "markdown",
   "metadata": {},
   "source": [
    "##### EIRE or Ireland is the country with highest amount of sales outside UK, So lets check the Association Rules for EIRE"
   ]
  },
  {
   "cell_type": "markdown",
   "metadata": {},
   "source": [
    "Here for EIRE, i ahve taken min_support of 0.02 and Min_threshold of 1.2."
   ]
  },
  {
   "cell_type": "code",
   "execution_count": 407,
   "metadata": {
    "scrolled": true
   },
   "outputs": [
    {
     "data": {
      "text/html": [
       "<div>\n",
       "<style scoped>\n",
       "    .dataframe tbody tr th:only-of-type {\n",
       "        vertical-align: middle;\n",
       "    }\n",
       "\n",
       "    .dataframe tbody tr th {\n",
       "        vertical-align: top;\n",
       "    }\n",
       "\n",
       "    .dataframe thead th {\n",
       "        text-align: right;\n",
       "    }\n",
       "</style>\n",
       "<table border=\"1\" class=\"dataframe\">\n",
       "  <thead>\n",
       "    <tr style=\"text-align: right;\">\n",
       "      <th></th>\n",
       "      <th>antecedents</th>\n",
       "      <th>consequents</th>\n",
       "      <th>antecedent support</th>\n",
       "      <th>consequent support</th>\n",
       "      <th>support</th>\n",
       "      <th>confidence</th>\n",
       "      <th>lift</th>\n",
       "      <th>leverage</th>\n",
       "      <th>conviction</th>\n",
       "    </tr>\n",
       "  </thead>\n",
       "  <tbody>\n",
       "    <tr>\n",
       "      <th>2068</th>\n",
       "      <td>(22698, 23171)</td>\n",
       "      <td>(22423, 23172, 22697)</td>\n",
       "      <td>0.024691</td>\n",
       "      <td>0.021164</td>\n",
       "      <td>0.021164</td>\n",
       "      <td>0.857143</td>\n",
       "      <td>40.500000</td>\n",
       "      <td>0.020641</td>\n",
       "      <td>6.851852</td>\n",
       "    </tr>\n",
       "    <tr>\n",
       "      <th>2526</th>\n",
       "      <td>(22699, 22698, 23171)</td>\n",
       "      <td>(22423, 23172, 22697)</td>\n",
       "      <td>0.024691</td>\n",
       "      <td>0.021164</td>\n",
       "      <td>0.021164</td>\n",
       "      <td>0.857143</td>\n",
       "      <td>40.500000</td>\n",
       "      <td>0.020641</td>\n",
       "      <td>6.851852</td>\n",
       "    </tr>\n",
       "    <tr>\n",
       "      <th>2053</th>\n",
       "      <td>(22423, 23172, 22697)</td>\n",
       "      <td>(22698, 23171)</td>\n",
       "      <td>0.021164</td>\n",
       "      <td>0.024691</td>\n",
       "      <td>0.021164</td>\n",
       "      <td>1.000000</td>\n",
       "      <td>40.500000</td>\n",
       "      <td>0.020641</td>\n",
       "      <td>inf</td>\n",
       "    </tr>\n",
       "    <tr>\n",
       "      <th>2551</th>\n",
       "      <td>(22698, 23171)</td>\n",
       "      <td>(22699, 22423, 23172, 22697)</td>\n",
       "      <td>0.024691</td>\n",
       "      <td>0.021164</td>\n",
       "      <td>0.021164</td>\n",
       "      <td>0.857143</td>\n",
       "      <td>40.500000</td>\n",
       "      <td>0.020641</td>\n",
       "      <td>6.851852</td>\n",
       "    </tr>\n",
       "    <tr>\n",
       "      <th>2506</th>\n",
       "      <td>(22699, 22423, 23172, 22697)</td>\n",
       "      <td>(22698, 23171)</td>\n",
       "      <td>0.021164</td>\n",
       "      <td>0.024691</td>\n",
       "      <td>0.021164</td>\n",
       "      <td>1.000000</td>\n",
       "      <td>40.500000</td>\n",
       "      <td>0.020641</td>\n",
       "      <td>inf</td>\n",
       "    </tr>\n",
       "    <tr>\n",
       "      <th>2531</th>\n",
       "      <td>(22423, 23172, 22697)</td>\n",
       "      <td>(22699, 22698, 23171)</td>\n",
       "      <td>0.021164</td>\n",
       "      <td>0.024691</td>\n",
       "      <td>0.021164</td>\n",
       "      <td>1.000000</td>\n",
       "      <td>40.500000</td>\n",
       "      <td>0.020641</td>\n",
       "      <td>inf</td>\n",
       "    </tr>\n",
       "    <tr>\n",
       "      <th>2220</th>\n",
       "      <td>(22698, 23171)</td>\n",
       "      <td>(22699, 22423, 23172)</td>\n",
       "      <td>0.024691</td>\n",
       "      <td>0.024691</td>\n",
       "      <td>0.022928</td>\n",
       "      <td>0.928571</td>\n",
       "      <td>37.607143</td>\n",
       "      <td>0.022318</td>\n",
       "      <td>13.654321</td>\n",
       "    </tr>\n",
       "    <tr>\n",
       "      <th>2201</th>\n",
       "      <td>(22699, 22423, 23172)</td>\n",
       "      <td>(22698, 23171)</td>\n",
       "      <td>0.024691</td>\n",
       "      <td>0.024691</td>\n",
       "      <td>0.022928</td>\n",
       "      <td>0.928571</td>\n",
       "      <td>37.607143</td>\n",
       "      <td>0.022318</td>\n",
       "      <td>13.654321</td>\n",
       "    </tr>\n",
       "    <tr>\n",
       "      <th>1624</th>\n",
       "      <td>(22698, 23171)</td>\n",
       "      <td>(23172, 22697)</td>\n",
       "      <td>0.024691</td>\n",
       "      <td>0.022928</td>\n",
       "      <td>0.021164</td>\n",
       "      <td>0.857143</td>\n",
       "      <td>37.384615</td>\n",
       "      <td>0.020598</td>\n",
       "      <td>6.839506</td>\n",
       "    </tr>\n",
       "    <tr>\n",
       "      <th>2586</th>\n",
       "      <td>(22699, 23172, 23171)</td>\n",
       "      <td>(22423, 22698, 23170)</td>\n",
       "      <td>0.024691</td>\n",
       "      <td>0.022928</td>\n",
       "      <td>0.021164</td>\n",
       "      <td>0.857143</td>\n",
       "      <td>37.384615</td>\n",
       "      <td>0.020598</td>\n",
       "      <td>6.839506</td>\n",
       "    </tr>\n",
       "  </tbody>\n",
       "</table>\n",
       "</div>"
      ],
      "text/plain": [
       "                       antecedents                   consequents  \\\n",
       "2068                (22698, 23171)         (22423, 23172, 22697)   \n",
       "2526         (22699, 22698, 23171)         (22423, 23172, 22697)   \n",
       "2053         (22423, 23172, 22697)                (22698, 23171)   \n",
       "2551                (22698, 23171)  (22699, 22423, 23172, 22697)   \n",
       "2506  (22699, 22423, 23172, 22697)                (22698, 23171)   \n",
       "2531         (22423, 23172, 22697)         (22699, 22698, 23171)   \n",
       "2220                (22698, 23171)         (22699, 22423, 23172)   \n",
       "2201         (22699, 22423, 23172)                (22698, 23171)   \n",
       "1624                (22698, 23171)                (23172, 22697)   \n",
       "2586         (22699, 23172, 23171)         (22423, 22698, 23170)   \n",
       "\n",
       "      antecedent support  consequent support   support  confidence       lift  \\\n",
       "2068            0.024691            0.021164  0.021164    0.857143  40.500000   \n",
       "2526            0.024691            0.021164  0.021164    0.857143  40.500000   \n",
       "2053            0.021164            0.024691  0.021164    1.000000  40.500000   \n",
       "2551            0.024691            0.021164  0.021164    0.857143  40.500000   \n",
       "2506            0.021164            0.024691  0.021164    1.000000  40.500000   \n",
       "2531            0.021164            0.024691  0.021164    1.000000  40.500000   \n",
       "2220            0.024691            0.024691  0.022928    0.928571  37.607143   \n",
       "2201            0.024691            0.024691  0.022928    0.928571  37.607143   \n",
       "1624            0.024691            0.022928  0.021164    0.857143  37.384615   \n",
       "2586            0.024691            0.022928  0.021164    0.857143  37.384615   \n",
       "\n",
       "      leverage  conviction  \n",
       "2068  0.020641    6.851852  \n",
       "2526  0.020641    6.851852  \n",
       "2053  0.020641         inf  \n",
       "2551  0.020641    6.851852  \n",
       "2506  0.020641         inf  \n",
       "2531  0.020641         inf  \n",
       "2220  0.022318   13.654321  \n",
       "2201  0.022318   13.654321  \n",
       "1624  0.020598    6.839506  \n",
       "2586  0.020598    6.839506  "
      ]
     },
     "execution_count": 407,
     "metadata": {},
     "output_type": "execute_result"
    }
   ],
   "source": [
    "df_EIRE = enter_country('EIRE')\n",
    "EIRE_frequent_itemsets = apriori(df_EIRE, min_support =0.02,use_colnames = True)\n",
    "EIRE_rule = association_rules(EIRE_frequent_itemsets, metric ='lift', min_threshold = 1.2)\n",
    "EIRE_rule.sort_values('lift',ascending=False).head(10)"
   ]
  },
  {
   "cell_type": "markdown",
   "metadata": {},
   "source": [
    "lets Filter the itemsets with confidence more than 80% and lift above 30."
   ]
  },
  {
   "cell_type": "code",
   "execution_count": 433,
   "metadata": {},
   "outputs": [
    {
     "data": {
      "text/html": [
       "<div>\n",
       "<style scoped>\n",
       "    .dataframe tbody tr th:only-of-type {\n",
       "        vertical-align: middle;\n",
       "    }\n",
       "\n",
       "    .dataframe tbody tr th {\n",
       "        vertical-align: top;\n",
       "    }\n",
       "\n",
       "    .dataframe thead th {\n",
       "        text-align: right;\n",
       "    }\n",
       "</style>\n",
       "<table border=\"1\" class=\"dataframe\">\n",
       "  <thead>\n",
       "    <tr style=\"text-align: right;\">\n",
       "      <th></th>\n",
       "      <th>antecedents</th>\n",
       "      <th>consequents</th>\n",
       "      <th>antecedent support</th>\n",
       "      <th>consequent support</th>\n",
       "      <th>support</th>\n",
       "      <th>confidence</th>\n",
       "      <th>lift</th>\n",
       "      <th>leverage</th>\n",
       "      <th>conviction</th>\n",
       "    </tr>\n",
       "  </thead>\n",
       "  <tbody>\n",
       "    <tr>\n",
       "      <th>2531</th>\n",
       "      <td>(22423, 23172, 22697)</td>\n",
       "      <td>(22699, 22698, 23171)</td>\n",
       "      <td>0.021164</td>\n",
       "      <td>0.024691</td>\n",
       "      <td>0.021164</td>\n",
       "      <td>1.000000</td>\n",
       "      <td>40.500000</td>\n",
       "      <td>0.020641</td>\n",
       "      <td>inf</td>\n",
       "    </tr>\n",
       "    <tr>\n",
       "      <th>2053</th>\n",
       "      <td>(22423, 23172, 22697)</td>\n",
       "      <td>(22698, 23171)</td>\n",
       "      <td>0.021164</td>\n",
       "      <td>0.024691</td>\n",
       "      <td>0.021164</td>\n",
       "      <td>1.000000</td>\n",
       "      <td>40.500000</td>\n",
       "      <td>0.020641</td>\n",
       "      <td>inf</td>\n",
       "    </tr>\n",
       "    <tr>\n",
       "      <th>2506</th>\n",
       "      <td>(22699, 22423, 23172, 22697)</td>\n",
       "      <td>(22698, 23171)</td>\n",
       "      <td>0.021164</td>\n",
       "      <td>0.024691</td>\n",
       "      <td>0.021164</td>\n",
       "      <td>1.000000</td>\n",
       "      <td>40.500000</td>\n",
       "      <td>0.020641</td>\n",
       "      <td>inf</td>\n",
       "    </tr>\n",
       "    <tr>\n",
       "      <th>2526</th>\n",
       "      <td>(22699, 22698, 23171)</td>\n",
       "      <td>(22423, 23172, 22697)</td>\n",
       "      <td>0.024691</td>\n",
       "      <td>0.021164</td>\n",
       "      <td>0.021164</td>\n",
       "      <td>0.857143</td>\n",
       "      <td>40.500000</td>\n",
       "      <td>0.020641</td>\n",
       "      <td>6.851852</td>\n",
       "    </tr>\n",
       "    <tr>\n",
       "      <th>2068</th>\n",
       "      <td>(22698, 23171)</td>\n",
       "      <td>(22423, 23172, 22697)</td>\n",
       "      <td>0.024691</td>\n",
       "      <td>0.021164</td>\n",
       "      <td>0.021164</td>\n",
       "      <td>0.857143</td>\n",
       "      <td>40.500000</td>\n",
       "      <td>0.020641</td>\n",
       "      <td>6.851852</td>\n",
       "    </tr>\n",
       "    <tr>\n",
       "      <th>2551</th>\n",
       "      <td>(22698, 23171)</td>\n",
       "      <td>(22699, 22423, 23172, 22697)</td>\n",
       "      <td>0.024691</td>\n",
       "      <td>0.021164</td>\n",
       "      <td>0.021164</td>\n",
       "      <td>0.857143</td>\n",
       "      <td>40.500000</td>\n",
       "      <td>0.020641</td>\n",
       "      <td>6.851852</td>\n",
       "    </tr>\n",
       "    <tr>\n",
       "      <th>2220</th>\n",
       "      <td>(22698, 23171)</td>\n",
       "      <td>(22699, 22423, 23172)</td>\n",
       "      <td>0.024691</td>\n",
       "      <td>0.024691</td>\n",
       "      <td>0.022928</td>\n",
       "      <td>0.928571</td>\n",
       "      <td>37.607143</td>\n",
       "      <td>0.022318</td>\n",
       "      <td>13.654321</td>\n",
       "    </tr>\n",
       "    <tr>\n",
       "      <th>2201</th>\n",
       "      <td>(22699, 22423, 23172)</td>\n",
       "      <td>(22698, 23171)</td>\n",
       "      <td>0.024691</td>\n",
       "      <td>0.024691</td>\n",
       "      <td>0.022928</td>\n",
       "      <td>0.928571</td>\n",
       "      <td>37.607143</td>\n",
       "      <td>0.022318</td>\n",
       "      <td>13.654321</td>\n",
       "    </tr>\n",
       "    <tr>\n",
       "      <th>2525</th>\n",
       "      <td>(22699, 23172, 22697)</td>\n",
       "      <td>(22423, 22698, 23171)</td>\n",
       "      <td>0.022928</td>\n",
       "      <td>0.024691</td>\n",
       "      <td>0.021164</td>\n",
       "      <td>0.923077</td>\n",
       "      <td>37.384615</td>\n",
       "      <td>0.020598</td>\n",
       "      <td>12.679012</td>\n",
       "    </tr>\n",
       "    <tr>\n",
       "      <th>2054</th>\n",
       "      <td>(22423, 22698, 23171)</td>\n",
       "      <td>(23172, 22697)</td>\n",
       "      <td>0.024691</td>\n",
       "      <td>0.022928</td>\n",
       "      <td>0.021164</td>\n",
       "      <td>0.857143</td>\n",
       "      <td>37.384615</td>\n",
       "      <td>0.020598</td>\n",
       "      <td>6.839506</td>\n",
       "    </tr>\n",
       "  </tbody>\n",
       "</table>\n",
       "</div>"
      ],
      "text/plain": [
       "                       antecedents                   consequents  \\\n",
       "2531         (22423, 23172, 22697)         (22699, 22698, 23171)   \n",
       "2053         (22423, 23172, 22697)                (22698, 23171)   \n",
       "2506  (22699, 22423, 23172, 22697)                (22698, 23171)   \n",
       "2526         (22699, 22698, 23171)         (22423, 23172, 22697)   \n",
       "2068                (22698, 23171)         (22423, 23172, 22697)   \n",
       "2551                (22698, 23171)  (22699, 22423, 23172, 22697)   \n",
       "2220                (22698, 23171)         (22699, 22423, 23172)   \n",
       "2201         (22699, 22423, 23172)                (22698, 23171)   \n",
       "2525         (22699, 23172, 22697)         (22423, 22698, 23171)   \n",
       "2054         (22423, 22698, 23171)                (23172, 22697)   \n",
       "\n",
       "      antecedent support  consequent support   support  confidence       lift  \\\n",
       "2531            0.021164            0.024691  0.021164    1.000000  40.500000   \n",
       "2053            0.021164            0.024691  0.021164    1.000000  40.500000   \n",
       "2506            0.021164            0.024691  0.021164    1.000000  40.500000   \n",
       "2526            0.024691            0.021164  0.021164    0.857143  40.500000   \n",
       "2068            0.024691            0.021164  0.021164    0.857143  40.500000   \n",
       "2551            0.024691            0.021164  0.021164    0.857143  40.500000   \n",
       "2220            0.024691            0.024691  0.022928    0.928571  37.607143   \n",
       "2201            0.024691            0.024691  0.022928    0.928571  37.607143   \n",
       "2525            0.022928            0.024691  0.021164    0.923077  37.384615   \n",
       "2054            0.024691            0.022928  0.021164    0.857143  37.384615   \n",
       "\n",
       "      leverage  conviction  \n",
       "2531  0.020641         inf  \n",
       "2053  0.020641         inf  \n",
       "2506  0.020641         inf  \n",
       "2526  0.020641    6.851852  \n",
       "2068  0.020641    6.851852  \n",
       "2551  0.020641    6.851852  \n",
       "2220  0.022318   13.654321  \n",
       "2201  0.022318   13.654321  \n",
       "2525  0.020598   12.679012  \n",
       "2054  0.020598    6.839506  "
      ]
     },
     "execution_count": 433,
     "metadata": {},
     "output_type": "execute_result"
    }
   ],
   "source": [
    "EIRE_rule[(EIRE_rule['confidence']>0.8)&(EIRE_rule['lift']>30)].sort_values('lift',ascending=False).head(10)"
   ]
  },
  {
   "cell_type": "code",
   "execution_count": 435,
   "metadata": {},
   "outputs": [
    {
     "data": {
      "text/plain": [
       "array(['REGENCY CAKESTAND 3 TIER', 'GREEN REGENCY TEACUP AND SAUCER',\n",
       "       'TEACUP AND SAUCER REGENCY GREEN', 'REGENCY TEA PLATE PINK'],\n",
       "      dtype=object)"
      ]
     },
     "execution_count": 435,
     "metadata": {},
     "output_type": "execute_result"
    }
   ],
   "source": [
    "df[df['StockCode'].isin(['22423','23172','22697'])]['Description'].unique()"
   ]
  },
  {
   "cell_type": "code",
   "execution_count": 437,
   "metadata": {},
   "outputs": [
    {
     "data": {
      "text/plain": [
       "array(['ROSES REGENCY TEACUP AND SAUCER ',\n",
       "       'PINK REGENCY TEACUP AND SAUCER', 'TEACUP AND SAUCER REGENCY PINK',\n",
       "       'TEACUP AND SAUCER REGENCY ROSES', 'REGENCY TEA PLATE GREEN '],\n",
       "      dtype=object)"
      ]
     },
     "execution_count": 437,
     "metadata": {},
     "output_type": "execute_result"
    }
   ],
   "source": [
    "df[df['StockCode'].isin(['22699','22698','23171'])]['Description'].unique()"
   ]
  },
  {
   "cell_type": "markdown",
   "metadata": {},
   "source": [
    "IF customer's basket is fill with products with stockcode - 22423, 23172 and 22697 than the rules are 100% confident that the customer will purchase the products with stockcode 22699, 22698 and 23171.\n",
    "\n",
    "Description of the products are follows:  \n",
    "\n",
    "If wholesaler purchase \"REGENCY CAKESTAND 3 TIER\", \"REGENCY TEA PLATE PINK\" and \"GREEN REGENCY TEACUP AND SAUCER\"\n",
    "\n",
    "than according to rules we are 100% confidence that the Wholesaler will purchase \"ROSES REGENCY TEACUP AND SAUCER\", \"PINK REGENCY TEACUP AND SAUCER\" and \"REGENCY TEA PLATE GREEN\"\n"
   ]
  },
  {
   "cell_type": "markdown",
   "metadata": {},
   "source": [
    "#### Association Rules for United Kingdom\n",
    "\n",
    "Our main target in this project is UK because it the country with most transaction and 83% of all sales are from UK, So lets find out about the association rules for UK. For UK, lets take the minimum support of 0.15 and threshold of 1.2"
   ]
  },
  {
   "cell_type": "code",
   "execution_count": 443,
   "metadata": {
    "scrolled": true,
    "slideshow": {
     "slide_type": "slide"
    }
   },
   "outputs": [
    {
     "data": {
      "text/html": [
       "<div>\n",
       "<style scoped>\n",
       "    .dataframe tbody tr th:only-of-type {\n",
       "        vertical-align: middle;\n",
       "    }\n",
       "\n",
       "    .dataframe tbody tr th {\n",
       "        vertical-align: top;\n",
       "    }\n",
       "\n",
       "    .dataframe thead th {\n",
       "        text-align: right;\n",
       "    }\n",
       "</style>\n",
       "<table border=\"1\" class=\"dataframe\">\n",
       "  <thead>\n",
       "    <tr style=\"text-align: right;\">\n",
       "      <th></th>\n",
       "      <th>antecedents</th>\n",
       "      <th>consequents</th>\n",
       "      <th>antecedent support</th>\n",
       "      <th>consequent support</th>\n",
       "      <th>support</th>\n",
       "      <th>confidence</th>\n",
       "      <th>lift</th>\n",
       "      <th>leverage</th>\n",
       "      <th>conviction</th>\n",
       "    </tr>\n",
       "  </thead>\n",
       "  <tbody>\n",
       "    <tr>\n",
       "      <th>125</th>\n",
       "      <td>(22697)</td>\n",
       "      <td>(22698)</td>\n",
       "      <td>0.025025</td>\n",
       "      <td>0.019954</td>\n",
       "      <td>0.016643</td>\n",
       "      <td>0.665077</td>\n",
       "      <td>33.330422</td>\n",
       "      <td>0.016144</td>\n",
       "      <td>2.926187</td>\n",
       "    </tr>\n",
       "    <tr>\n",
       "      <th>124</th>\n",
       "      <td>(22698)</td>\n",
       "      <td>(22697)</td>\n",
       "      <td>0.019954</td>\n",
       "      <td>0.025025</td>\n",
       "      <td>0.016643</td>\n",
       "      <td>0.834081</td>\n",
       "      <td>33.330422</td>\n",
       "      <td>0.016144</td>\n",
       "      <td>5.876203</td>\n",
       "    </tr>\n",
       "    <tr>\n",
       "      <th>150</th>\n",
       "      <td>(84997D)</td>\n",
       "      <td>(84997C)</td>\n",
       "      <td>0.024309</td>\n",
       "      <td>0.021833</td>\n",
       "      <td>0.015331</td>\n",
       "      <td>0.630675</td>\n",
       "      <td>28.886114</td>\n",
       "      <td>0.014800</td>\n",
       "      <td>2.648525</td>\n",
       "    </tr>\n",
       "    <tr>\n",
       "      <th>151</th>\n",
       "      <td>(84997C)</td>\n",
       "      <td>(84997D)</td>\n",
       "      <td>0.021833</td>\n",
       "      <td>0.024309</td>\n",
       "      <td>0.015331</td>\n",
       "      <td>0.702186</td>\n",
       "      <td>28.886114</td>\n",
       "      <td>0.014800</td>\n",
       "      <td>3.276174</td>\n",
       "    </tr>\n",
       "    <tr>\n",
       "      <th>144</th>\n",
       "      <td>(82581)</td>\n",
       "      <td>(82580)</td>\n",
       "      <td>0.021087</td>\n",
       "      <td>0.026695</td>\n",
       "      <td>0.016226</td>\n",
       "      <td>0.769448</td>\n",
       "      <td>28.823794</td>\n",
       "      <td>0.015663</td>\n",
       "      <td>4.221636</td>\n",
       "    </tr>\n",
       "    <tr>\n",
       "      <th>...</th>\n",
       "      <td>...</td>\n",
       "      <td>...</td>\n",
       "      <td>...</td>\n",
       "      <td>...</td>\n",
       "      <td>...</td>\n",
       "      <td>...</td>\n",
       "      <td>...</td>\n",
       "      <td>...</td>\n",
       "      <td>...</td>\n",
       "    </tr>\n",
       "    <tr>\n",
       "      <th>147</th>\n",
       "      <td>(85123A)</td>\n",
       "      <td>(84879)</td>\n",
       "      <td>0.140424</td>\n",
       "      <td>0.074686</td>\n",
       "      <td>0.018552</td>\n",
       "      <td>0.132116</td>\n",
       "      <td>1.768945</td>\n",
       "      <td>0.008064</td>\n",
       "      <td>1.066172</td>\n",
       "    </tr>\n",
       "    <tr>\n",
       "      <th>21</th>\n",
       "      <td>(20725)</td>\n",
       "      <td>(85123A)</td>\n",
       "      <td>0.068124</td>\n",
       "      <td>0.140424</td>\n",
       "      <td>0.015033</td>\n",
       "      <td>0.220665</td>\n",
       "      <td>1.571421</td>\n",
       "      <td>0.005466</td>\n",
       "      <td>1.102961</td>\n",
       "    </tr>\n",
       "    <tr>\n",
       "      <th>20</th>\n",
       "      <td>(85123A)</td>\n",
       "      <td>(20725)</td>\n",
       "      <td>0.140424</td>\n",
       "      <td>0.068124</td>\n",
       "      <td>0.015033</td>\n",
       "      <td>0.107052</td>\n",
       "      <td>1.571421</td>\n",
       "      <td>0.005466</td>\n",
       "      <td>1.043594</td>\n",
       "    </tr>\n",
       "    <tr>\n",
       "      <th>156</th>\n",
       "      <td>(85123A)</td>\n",
       "      <td>(85099B)</td>\n",
       "      <td>0.140424</td>\n",
       "      <td>0.089063</td>\n",
       "      <td>0.016822</td>\n",
       "      <td>0.119796</td>\n",
       "      <td>1.345078</td>\n",
       "      <td>0.004316</td>\n",
       "      <td>1.034916</td>\n",
       "    </tr>\n",
       "    <tr>\n",
       "      <th>157</th>\n",
       "      <td>(85099B)</td>\n",
       "      <td>(85123A)</td>\n",
       "      <td>0.089063</td>\n",
       "      <td>0.140424</td>\n",
       "      <td>0.016822</td>\n",
       "      <td>0.188881</td>\n",
       "      <td>1.345078</td>\n",
       "      <td>0.004316</td>\n",
       "      <td>1.059741</td>\n",
       "    </tr>\n",
       "  </tbody>\n",
       "</table>\n",
       "<p>164 rows × 9 columns</p>\n",
       "</div>"
      ],
      "text/plain": [
       "    antecedents consequents  antecedent support  consequent support   support  \\\n",
       "125     (22697)     (22698)            0.025025            0.019954  0.016643   \n",
       "124     (22698)     (22697)            0.019954            0.025025  0.016643   \n",
       "150    (84997D)    (84997C)            0.024309            0.021833  0.015331   \n",
       "151    (84997C)    (84997D)            0.021833            0.024309  0.015331   \n",
       "144     (82581)     (82580)            0.021087            0.026695  0.016226   \n",
       "..          ...         ...                 ...                 ...       ...   \n",
       "147    (85123A)     (84879)            0.140424            0.074686  0.018552   \n",
       "21      (20725)    (85123A)            0.068124            0.140424  0.015033   \n",
       "20     (85123A)     (20725)            0.140424            0.068124  0.015033   \n",
       "156    (85123A)    (85099B)            0.140424            0.089063  0.016822   \n",
       "157    (85099B)    (85123A)            0.089063            0.140424  0.016822   \n",
       "\n",
       "     confidence       lift  leverage  conviction  \n",
       "125    0.665077  33.330422  0.016144    2.926187  \n",
       "124    0.834081  33.330422  0.016144    5.876203  \n",
       "150    0.630675  28.886114  0.014800    2.648525  \n",
       "151    0.702186  28.886114  0.014800    3.276174  \n",
       "144    0.769448  28.823794  0.015663    4.221636  \n",
       "..          ...        ...       ...         ...  \n",
       "147    0.132116   1.768945  0.008064    1.066172  \n",
       "21     0.220665   1.571421  0.005466    1.102961  \n",
       "20     0.107052   1.571421  0.005466    1.043594  \n",
       "156    0.119796   1.345078  0.004316    1.034916  \n",
       "157    0.188881   1.345078  0.004316    1.059741  \n",
       "\n",
       "[164 rows x 9 columns]"
      ]
     },
     "execution_count": 443,
     "metadata": {},
     "output_type": "execute_result"
    }
   ],
   "source": [
    "df_uk = enter_country('United Kingdom')\n",
    "UK_frequent_itemsets = apriori(df_uk, min_support =0.015,use_colnames = True)\n",
    "UK_rule = association_rules(UK_frequent_itemsets, metric ='lift', min_threshold = 1.2)\n",
    "UK_rule.sort_values('lift',ascending=False)"
   ]
  },
  {
   "cell_type": "code",
   "execution_count": 446,
   "metadata": {},
   "outputs": [
    {
     "data": {
      "text/html": [
       "<div>\n",
       "<style scoped>\n",
       "    .dataframe tbody tr th:only-of-type {\n",
       "        vertical-align: middle;\n",
       "    }\n",
       "\n",
       "    .dataframe tbody tr th {\n",
       "        vertical-align: top;\n",
       "    }\n",
       "\n",
       "    .dataframe thead th {\n",
       "        text-align: right;\n",
       "    }\n",
       "</style>\n",
       "<table border=\"1\" class=\"dataframe\">\n",
       "  <thead>\n",
       "    <tr style=\"text-align: right;\">\n",
       "      <th></th>\n",
       "      <th>antecedents</th>\n",
       "      <th>consequents</th>\n",
       "      <th>antecedent support</th>\n",
       "      <th>consequent support</th>\n",
       "      <th>support</th>\n",
       "      <th>confidence</th>\n",
       "      <th>lift</th>\n",
       "      <th>leverage</th>\n",
       "      <th>conviction</th>\n",
       "    </tr>\n",
       "  </thead>\n",
       "  <tbody>\n",
       "    <tr>\n",
       "      <th>124</th>\n",
       "      <td>(22698)</td>\n",
       "      <td>(22697)</td>\n",
       "      <td>0.019954</td>\n",
       "      <td>0.025025</td>\n",
       "      <td>0.016643</td>\n",
       "      <td>0.834081</td>\n",
       "      <td>33.330422</td>\n",
       "      <td>0.016144</td>\n",
       "      <td>5.876203</td>\n",
       "    </tr>\n",
       "  </tbody>\n",
       "</table>\n",
       "</div>"
      ],
      "text/plain": [
       "    antecedents consequents  antecedent support  consequent support   support  \\\n",
       "124     (22698)     (22697)            0.019954            0.025025  0.016643   \n",
       "\n",
       "     confidence       lift  leverage  conviction  \n",
       "124    0.834081  33.330422  0.016144    5.876203  "
      ]
     },
     "execution_count": 446,
     "metadata": {},
     "output_type": "execute_result"
    }
   ],
   "source": [
    "#lets filterout only itemsets with confidence of 80% and lift more than 30\n",
    "UK_rule[(UK_rule['confidence']>0.8)&(UK_rule['lift']>30)].sort_values('lift',ascending=False).head(10)"
   ]
  },
  {
   "cell_type": "markdown",
   "metadata": {},
   "source": [
    "On Minimum support of 0.15 and Threshold of 1.2 we get 164 rules, out of these 164 rules we have only 1 rule with more 80% of confidence and lift 33.33.\n",
    "If Wholesaler is purchasing \"SAUCER PINK REGENCY TEACUP\" than we can recommend \"GREEN REGENCY TEACUP\" because it has 80% of confidence with 33 times lift."
   ]
  },
  {
   "cell_type": "code",
   "execution_count": 447,
   "metadata": {},
   "outputs": [
    {
     "data": {
      "text/plain": [
       "array(['GREEN REGENCY TEACUP AND SAUCER',\n",
       "       'TEACUP AND SAUCER REGENCY GREEN'], dtype=object)"
      ]
     },
     "execution_count": 447,
     "metadata": {},
     "output_type": "execute_result"
    }
   ],
   "source": [
    "df[df['StockCode'].isin(['22697'])]['Description'].unique()"
   ]
  },
  {
   "cell_type": "markdown",
   "metadata": {},
   "source": [
    "For more rules, we can set the min_support to 0.1 and minimum threshold of 1.2, but this will decrease the confidence among itemsets. Now on Support of 0.1 we have 816 rules."
   ]
  },
  {
   "cell_type": "code",
   "execution_count": 449,
   "metadata": {},
   "outputs": [
    {
     "data": {
      "text/html": [
       "<div>\n",
       "<style scoped>\n",
       "    .dataframe tbody tr th:only-of-type {\n",
       "        vertical-align: middle;\n",
       "    }\n",
       "\n",
       "    .dataframe tbody tr th {\n",
       "        vertical-align: top;\n",
       "    }\n",
       "\n",
       "    .dataframe thead th {\n",
       "        text-align: right;\n",
       "    }\n",
       "</style>\n",
       "<table border=\"1\" class=\"dataframe\">\n",
       "  <thead>\n",
       "    <tr style=\"text-align: right;\">\n",
       "      <th></th>\n",
       "      <th>antecedents</th>\n",
       "      <th>consequents</th>\n",
       "      <th>antecedent support</th>\n",
       "      <th>consequent support</th>\n",
       "      <th>support</th>\n",
       "      <th>confidence</th>\n",
       "      <th>lift</th>\n",
       "      <th>leverage</th>\n",
       "      <th>conviction</th>\n",
       "    </tr>\n",
       "  </thead>\n",
       "  <tbody>\n",
       "    <tr>\n",
       "      <th>411</th>\n",
       "      <td>(22748)</td>\n",
       "      <td>(22746)</td>\n",
       "      <td>0.015838</td>\n",
       "      <td>0.011722</td>\n",
       "      <td>0.010469</td>\n",
       "      <td>0.661017</td>\n",
       "      <td>56.391642</td>\n",
       "      <td>0.010284</td>\n",
       "      <td>2.915420</td>\n",
       "    </tr>\n",
       "    <tr>\n",
       "      <th>410</th>\n",
       "      <td>(22746)</td>\n",
       "      <td>(22748)</td>\n",
       "      <td>0.011722</td>\n",
       "      <td>0.015838</td>\n",
       "      <td>0.010469</td>\n",
       "      <td>0.893130</td>\n",
       "      <td>56.391642</td>\n",
       "      <td>0.010284</td>\n",
       "      <td>9.208945</td>\n",
       "    </tr>\n",
       "    <tr>\n",
       "      <th>408</th>\n",
       "      <td>(22748)</td>\n",
       "      <td>(22745)</td>\n",
       "      <td>0.015838</td>\n",
       "      <td>0.014078</td>\n",
       "      <td>0.012020</td>\n",
       "      <td>0.758945</td>\n",
       "      <td>53.909241</td>\n",
       "      <td>0.011797</td>\n",
       "      <td>4.090035</td>\n",
       "    </tr>\n",
       "    <tr>\n",
       "      <th>409</th>\n",
       "      <td>(22745)</td>\n",
       "      <td>(22748)</td>\n",
       "      <td>0.014078</td>\n",
       "      <td>0.015838</td>\n",
       "      <td>0.012020</td>\n",
       "      <td>0.853814</td>\n",
       "      <td>53.909241</td>\n",
       "      <td>0.011797</td>\n",
       "      <td>6.732239</td>\n",
       "    </tr>\n",
       "    <tr>\n",
       "      <th>127</th>\n",
       "      <td>(21086)</td>\n",
       "      <td>(21094)</td>\n",
       "      <td>0.013064</td>\n",
       "      <td>0.015241</td>\n",
       "      <td>0.010111</td>\n",
       "      <td>0.773973</td>\n",
       "      <td>50.780782</td>\n",
       "      <td>0.009912</td>\n",
       "      <td>4.356811</td>\n",
       "    </tr>\n",
       "    <tr>\n",
       "      <th>...</th>\n",
       "      <td>...</td>\n",
       "      <td>...</td>\n",
       "      <td>...</td>\n",
       "      <td>...</td>\n",
       "      <td>...</td>\n",
       "      <td>...</td>\n",
       "      <td>...</td>\n",
       "      <td>...</td>\n",
       "      <td>...</td>\n",
       "    </tr>\n",
       "    <tr>\n",
       "      <th>310</th>\n",
       "      <td>(85123A)</td>\n",
       "      <td>(22382)</td>\n",
       "      <td>0.140424</td>\n",
       "      <td>0.051302</td>\n",
       "      <td>0.010529</td>\n",
       "      <td>0.074979</td>\n",
       "      <td>1.461519</td>\n",
       "      <td>0.003325</td>\n",
       "      <td>1.025596</td>\n",
       "    </tr>\n",
       "    <tr>\n",
       "      <th>170</th>\n",
       "      <td>(85123A)</td>\n",
       "      <td>(21212)</td>\n",
       "      <td>0.140424</td>\n",
       "      <td>0.063054</td>\n",
       "      <td>0.012229</td>\n",
       "      <td>0.087086</td>\n",
       "      <td>1.381138</td>\n",
       "      <td>0.003375</td>\n",
       "      <td>1.026325</td>\n",
       "    </tr>\n",
       "    <tr>\n",
       "      <th>171</th>\n",
       "      <td>(21212)</td>\n",
       "      <td>(85123A)</td>\n",
       "      <td>0.063054</td>\n",
       "      <td>0.140424</td>\n",
       "      <td>0.012229</td>\n",
       "      <td>0.193945</td>\n",
       "      <td>1.381138</td>\n",
       "      <td>0.003375</td>\n",
       "      <td>1.066399</td>\n",
       "    </tr>\n",
       "    <tr>\n",
       "      <th>498</th>\n",
       "      <td>(85123A)</td>\n",
       "      <td>(85099B)</td>\n",
       "      <td>0.140424</td>\n",
       "      <td>0.089063</td>\n",
       "      <td>0.016822</td>\n",
       "      <td>0.119796</td>\n",
       "      <td>1.345078</td>\n",
       "      <td>0.004316</td>\n",
       "      <td>1.034916</td>\n",
       "    </tr>\n",
       "    <tr>\n",
       "      <th>499</th>\n",
       "      <td>(85099B)</td>\n",
       "      <td>(85123A)</td>\n",
       "      <td>0.089063</td>\n",
       "      <td>0.140424</td>\n",
       "      <td>0.016822</td>\n",
       "      <td>0.188881</td>\n",
       "      <td>1.345078</td>\n",
       "      <td>0.004316</td>\n",
       "      <td>1.059741</td>\n",
       "    </tr>\n",
       "  </tbody>\n",
       "</table>\n",
       "<p>816 rows × 9 columns</p>\n",
       "</div>"
      ],
      "text/plain": [
       "    antecedents consequents  antecedent support  consequent support   support  \\\n",
       "411     (22748)     (22746)            0.015838            0.011722  0.010469   \n",
       "410     (22746)     (22748)            0.011722            0.015838  0.010469   \n",
       "408     (22748)     (22745)            0.015838            0.014078  0.012020   \n",
       "409     (22745)     (22748)            0.014078            0.015838  0.012020   \n",
       "127     (21086)     (21094)            0.013064            0.015241  0.010111   \n",
       "..          ...         ...                 ...                 ...       ...   \n",
       "310    (85123A)     (22382)            0.140424            0.051302  0.010529   \n",
       "170    (85123A)     (21212)            0.140424            0.063054  0.012229   \n",
       "171     (21212)    (85123A)            0.063054            0.140424  0.012229   \n",
       "498    (85123A)    (85099B)            0.140424            0.089063  0.016822   \n",
       "499    (85099B)    (85123A)            0.089063            0.140424  0.016822   \n",
       "\n",
       "     confidence       lift  leverage  conviction  \n",
       "411    0.661017  56.391642  0.010284    2.915420  \n",
       "410    0.893130  56.391642  0.010284    9.208945  \n",
       "408    0.758945  53.909241  0.011797    4.090035  \n",
       "409    0.853814  53.909241  0.011797    6.732239  \n",
       "127    0.773973  50.780782  0.009912    4.356811  \n",
       "..          ...        ...       ...         ...  \n",
       "310    0.074979   1.461519  0.003325    1.025596  \n",
       "170    0.087086   1.381138  0.003375    1.026325  \n",
       "171    0.193945   1.381138  0.003375    1.066399  \n",
       "498    0.119796   1.345078  0.004316    1.034916  \n",
       "499    0.188881   1.345078  0.004316    1.059741  \n",
       "\n",
       "[816 rows x 9 columns]"
      ]
     },
     "execution_count": 449,
     "metadata": {},
     "output_type": "execute_result"
    }
   ],
   "source": [
    "df_uk = enter_country('United Kingdom')\n",
    "UK_frequent_itemsets = apriori(df_uk, min_support =0.01,use_colnames = True)\n",
    "UK_rule = association_rules(UK_frequent_itemsets, metric ='lift', min_threshold = 1.2)\n",
    "UK_rule.sort_values('lift',ascending=False)"
   ]
  },
  {
   "cell_type": "markdown",
   "metadata": {},
   "source": [
    "## Recommender Systems\n",
    "I design a recommender system for UK based wholesalers. Now we have our rules for UK Based customers , So we can start to recommend items to customers. If we have the current basket, we can check our association rules for the next most common item, based on highest lift. Here i design a recommender system which recommend the product based on association rules."
   ]
  },
  {
   "cell_type": "code",
   "execution_count": 452,
   "metadata": {},
   "outputs": [],
   "source": [
    "UK_rule['antecedents'] = UK_rule['antecedents'].apply(lambda x:list(x)).copy()\n",
    "UK_rule['consequents'] = UK_rule['consequents'].apply(lambda x:list(x)).copy()"
   ]
  },
  {
   "cell_type": "code",
   "execution_count": 457,
   "metadata": {
    "slideshow": {
     "slide_type": "subslide"
    }
   },
   "outputs": [
    {
     "name": "stdout",
     "output_type": "stream",
     "text": [
      "basket22748\n",
      "22748\n"
     ]
    },
    {
     "data": {
      "text/plain": [
       "411    [22746]\n",
       "Name: consequents, dtype: object"
      ]
     },
     "execution_count": 457,
     "metadata": {},
     "output_type": "execute_result"
    }
   ],
   "source": [
    "import numpy as np\n",
    "\n",
    "metric = 'lift'\n",
    "\n",
    "def product_recs(basket, UK_rule, metric):\n",
    "    \n",
    "    # Randomly select an item from the basket\n",
    "    random_item = input(np.random.choice(basket, 1)[0])\n",
    "    print(random_item)\n",
    "    \n",
    "    # Find rules where the item is in the antecedent\n",
    "    rule_filter = UK_rule['antecedents'].apply(lambda x:x[0]) == random_item\n",
    "    \n",
    "    # Filter the dataframe using rule_filter and sort by the selected metric\n",
    "    filtered_df = UK_rule[rule_filter].sort_values(by=metric)\n",
    "    \n",
    "    # Randomly return one of the top 20 items from the filtered dataframe\n",
    "    reco = filtered_df.head(20).sample(1)['consequents']\n",
    "    \n",
    "    return reco\n",
    "\n",
    "mybasket = ['basket']\n",
    "product_recs(mybasket, UK_rule, metric)"
   ]
  },
  {
   "cell_type": "code",
   "execution_count": 458,
   "metadata": {
    "slideshow": {
     "slide_type": "subslide"
    }
   },
   "outputs": [
    {
     "data": {
      "text/plain": [
       "array([\"POPPY'S PLAYHOUSE LIVINGROOM \", \"POPPY'S PLAYHOUSE KITCHEN\"],\n",
       "      dtype=object)"
      ]
     },
     "metadata": {},
     "output_type": "display_data"
    }
   ],
   "source": [
    "display(df[df['StockCode'].isin(['22746','22748'])]['Description'].unique())"
   ]
  },
  {
   "cell_type": "markdown",
   "metadata": {},
   "source": [
    "## Conclusion:\n",
    "\n",
    "1. The Company should suggest the frequently bought together products to there wholesale customers and they can provide deals or offers to increase sales.\n",
    "2. If customers are purchasing the products present in list of antecedents than we can suggest the consequents from the Association Rules table with lift greater than 1.\n",
    "3. As we know that Our customers are wholesalers, so most of the items recommended are related to each other in terms of Common Baskets. Example: POPPY'S PLAYHOUSE LIVINGROOM is recommended with POPPY'S PLAYHOUSE KITCHEN. Also many of the recommended products are similar to the purchasing product, only difference is color or the shape of the product. The reason is the wholesalers want more varieties of same product for there end customers.\n",
    "4. We find that the product with the stockcode '22423' is the item with highest number of sales.The description of the product is 'REGENCY CAKESTAND 3 TIER' follwed by Product with stockcode '85123A'.\n",
    "5. So for UK based cutomers, If they are purchasing item 'REGENCY CAKESTAND 3 TIER' which is the item with highest number of sales, we can recommend the ROSES REGENCY TEACUP AND SAUCER and 'GREEN REGENCY TEACUP AND SAUCER' to our customers for cross-selling. \n",
    "6. For UK based Wholesalers, If they purchasing \"SAUCER PINK REGENCY TEACUP\" than \"GREEN REGENCY TEACUP\" is highly recommended.\n",
    "7. In terms of Quantity, stockcode '84077' is the most popular item.The name of the product is 'WORLD WAR 2 GLIDERS ASSTD DESIGNS'. This product is sold for more than 100000 times which is highest quantity among all other categories. for UK based customers our association rule is not suggesting anything with this product.\n",
    "8. In terms of highest number transactions Germany is on top outside UK, In terms of sales Highest Amount sold outside UK is in EIRE and In terms of Quantity the highest quantity sold outside UK is in Netherland."
   ]
  }
 ],
 "metadata": {
  "kernelspec": {
   "display_name": "Python 3",
   "language": "python",
   "name": "python3"
  },
  "language_info": {
   "codemirror_mode": {
    "name": "ipython",
    "version": 3
   },
   "file_extension": ".py",
   "mimetype": "text/x-python",
   "name": "python",
   "nbconvert_exporter": "python",
   "pygments_lexer": "ipython3",
   "version": "3.8.3"
  }
 },
 "nbformat": 4,
 "nbformat_minor": 4
}
